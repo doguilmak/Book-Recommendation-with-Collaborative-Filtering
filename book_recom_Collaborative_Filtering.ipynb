{
 "cells": [
  {
   "cell_type": "markdown",
   "id": "e64e2206",
   "metadata": {},
   "source": [
    "# Book Recommendation with Collaborative Filtering\n",
    "\n",
    "<img src=\"https://img-cdn.inc.com/image/upload/w_1920,h_1080,c_fill/images/panoramic/GettyImages-577674005_492115_zfpgiw.jpg\" alt=\"pearson correlation\">\n",
    "\n",
    "## Build state-of-the-art models for book recommendation system\n",
    "\n",
    "## Context\n",
    "During the last few decades, with the rise of Youtube, Amazon, Netflix and many other such web services, recommender systems have taken more and more place in our lives. From e-commerce (suggest to buyers articles that could interest them) to online advertisement (suggest to users the right contents, matching their preferences), recommender systems are today unavoidable in our daily online journeys.\n",
    "In a very general way, recommender systems are algorithms aimed at suggesting relevant items to users (items being movies to watch, text to read, products to buy or anything else depending on industries).\n",
    "\n",
    "Recommender systems are really critical in some industries as they can generate a huge amount of income when they are efficient or also be a way to stand out significantly from competitors. As a proof of the importance of recommender systems, we can mention that, a few years ago, Netflix organised a challenges (the “Netflix prize”) where the goal was to produce a recommender system that performs better than its own algorithm with a prize of 1 million dollars to win.\n",
    "\n",
    "By applying this simple dataset and related tasks and notebooks , we will evolutionary go through different paradigms of recommender algorithms . For each of them, we will present how they work, describe their theoretical basis and discuss their strengths and weaknesses. For extra information, please check <a href=\"https://www.kaggle.com/arashnic/book-recommendation-dataset\">Kaggle Möbius</a>.\n",
    "\n",
    "## Dataset and Extra Information\n",
    "\n",
    "https://www.kaggle.com/arashnic/book-recommendation-dataset\n",
    "\n",
    "### Picture link:\n",
    "\n",
    "<a href=\"https://www.inc.com/jessica-stillman/books-reading-intelligence-tyler-cowen.html\">Jessica Stillman</a>"
   ]
  },
  {
   "cell_type": "markdown",
   "id": "37428d8e",
   "metadata": {},
   "source": [
    "### Imporing libraries"
   ]
  },
  {
   "cell_type": "code",
   "execution_count": 1,
   "id": "4572f960",
   "metadata": {},
   "outputs": [],
   "source": [
    "import warnings\n",
    "warnings.filterwarnings(\"ignore\")\n",
    "# Dataframe manipulation library\n",
    "import pandas as pd\n",
    "# Math functions, we'll only need the sqrt function so let's import only that\n",
    "from math import sqrt\n",
    "import numpy as np"
   ]
  },
  {
   "cell_type": "markdown",
   "id": "7a8abd6d",
   "metadata": {},
   "source": [
    "### Seperate datasets"
   ]
  },
  {
   "cell_type": "code",
   "execution_count": 2,
   "id": "90269cb0",
   "metadata": {},
   "outputs": [
    {
     "data": {
      "text/html": [
       "<div>\n",
       "<style scoped>\n",
       "    .dataframe tbody tr th:only-of-type {\n",
       "        vertical-align: middle;\n",
       "    }\n",
       "\n",
       "    .dataframe tbody tr th {\n",
       "        vertical-align: top;\n",
       "    }\n",
       "\n",
       "    .dataframe thead th {\n",
       "        text-align: right;\n",
       "    }\n",
       "</style>\n",
       "<table border=\"1\" class=\"dataframe\">\n",
       "  <thead>\n",
       "    <tr style=\"text-align: right;\">\n",
       "      <th></th>\n",
       "      <th>ISBN</th>\n",
       "      <th>Book-Title</th>\n",
       "      <th>Book-Author</th>\n",
       "      <th>Year-Of-Publication</th>\n",
       "    </tr>\n",
       "  </thead>\n",
       "  <tbody>\n",
       "    <tr>\n",
       "      <th>0</th>\n",
       "      <td>0195153448</td>\n",
       "      <td>Classical Mythology</td>\n",
       "      <td>Mark P. O. Morford</td>\n",
       "      <td>2002</td>\n",
       "    </tr>\n",
       "    <tr>\n",
       "      <th>1</th>\n",
       "      <td>0002005018</td>\n",
       "      <td>Clara Callan</td>\n",
       "      <td>Richard Bruce Wright</td>\n",
       "      <td>2001</td>\n",
       "    </tr>\n",
       "    <tr>\n",
       "      <th>2</th>\n",
       "      <td>0060973129</td>\n",
       "      <td>Decision in Normandy</td>\n",
       "      <td>Carlo D'Este</td>\n",
       "      <td>1991</td>\n",
       "    </tr>\n",
       "    <tr>\n",
       "      <th>3</th>\n",
       "      <td>0374157065</td>\n",
       "      <td>Flu: The Story of the Great Influenza Pandemic...</td>\n",
       "      <td>Gina Bari Kolata</td>\n",
       "      <td>1999</td>\n",
       "    </tr>\n",
       "    <tr>\n",
       "      <th>4</th>\n",
       "      <td>0393045218</td>\n",
       "      <td>The Mummies of Urumchi</td>\n",
       "      <td>E. J. W. Barber</td>\n",
       "      <td>1999</td>\n",
       "    </tr>\n",
       "  </tbody>\n",
       "</table>\n",
       "</div>"
      ],
      "text/plain": [
       "         ISBN                                         Book-Title  \\\n",
       "0  0195153448                                Classical Mythology   \n",
       "1  0002005018                                       Clara Callan   \n",
       "2  0060973129                               Decision in Normandy   \n",
       "3  0374157065  Flu: The Story of the Great Influenza Pandemic...   \n",
       "4  0393045218                             The Mummies of Urumchi   \n",
       "\n",
       "            Book-Author Year-Of-Publication  \n",
       "0    Mark P. O. Morford                2002  \n",
       "1  Richard Bruce Wright                2001  \n",
       "2          Carlo D'Este                1991  \n",
       "3      Gina Bari Kolata                1999  \n",
       "4       E. J. W. Barber                1999  "
      ]
     },
     "execution_count": 2,
     "metadata": {},
     "output_type": "execute_result"
    }
   ],
   "source": [
    "# Storing the movie information into a pandas dataframe\n",
    "books_df = pd.read_csv('Books.csv')\n",
    "books_df = books_df[['ISBN', 'Book-Title', 'Book-Author', 'Year-Of-Publication']]\n",
    "# Storing the user information into a pandas dataframe\n",
    "ratings_df = pd.read_csv('Ratings.csv')\n",
    "# Head is a function that gets the first N rows of a dataframe. N's default is 5.\n",
    "books_df.head()"
   ]
  },
  {
   "cell_type": "markdown",
   "id": "8e3bb51d",
   "metadata": {},
   "source": [
    "### Looking for duplicated book titles"
   ]
  },
  {
   "cell_type": "code",
   "execution_count": 3,
   "id": "696fca9b",
   "metadata": {},
   "outputs": [
    {
     "data": {
      "text/plain": [
       "29225"
      ]
     },
     "execution_count": 3,
     "metadata": {},
     "output_type": "execute_result"
    }
   ],
   "source": [
    "books_df['Book-Title'].duplicated().sum()"
   ]
  },
  {
   "cell_type": "code",
   "execution_count": 4,
   "id": "c27b3cc0",
   "metadata": {},
   "outputs": [],
   "source": [
    "books_df.drop_duplicates(subset='Book-Title', keep=\"last\", inplace=True)"
   ]
  },
  {
   "cell_type": "code",
   "execution_count": 5,
   "id": "59b02b52",
   "metadata": {},
   "outputs": [
    {
     "data": {
      "text/plain": [
       "0"
      ]
     },
     "execution_count": 5,
     "metadata": {},
     "output_type": "execute_result"
    }
   ],
   "source": [
    "books_df['Book-Title'].duplicated().sum()"
   ]
  },
  {
   "cell_type": "code",
   "execution_count": 6,
   "id": "46d6b507",
   "metadata": {},
   "outputs": [
    {
     "data": {
      "text/html": [
       "<div>\n",
       "<style scoped>\n",
       "    .dataframe tbody tr th:only-of-type {\n",
       "        vertical-align: middle;\n",
       "    }\n",
       "\n",
       "    .dataframe tbody tr th {\n",
       "        vertical-align: top;\n",
       "    }\n",
       "\n",
       "    .dataframe thead th {\n",
       "        text-align: right;\n",
       "    }\n",
       "</style>\n",
       "<table border=\"1\" class=\"dataframe\">\n",
       "  <thead>\n",
       "    <tr style=\"text-align: right;\">\n",
       "      <th></th>\n",
       "      <th>User-ID</th>\n",
       "      <th>ISBN</th>\n",
       "      <th>Book-Rating</th>\n",
       "    </tr>\n",
       "  </thead>\n",
       "  <tbody>\n",
       "    <tr>\n",
       "      <th>0</th>\n",
       "      <td>276725</td>\n",
       "      <td>034545104X</td>\n",
       "      <td>5</td>\n",
       "    </tr>\n",
       "    <tr>\n",
       "      <th>1</th>\n",
       "      <td>276726</td>\n",
       "      <td>155061224</td>\n",
       "      <td>2</td>\n",
       "    </tr>\n",
       "    <tr>\n",
       "      <th>2</th>\n",
       "      <td>276727</td>\n",
       "      <td>446520802</td>\n",
       "      <td>9</td>\n",
       "    </tr>\n",
       "    <tr>\n",
       "      <th>3</th>\n",
       "      <td>276729</td>\n",
       "      <td>052165615X</td>\n",
       "      <td>6</td>\n",
       "    </tr>\n",
       "    <tr>\n",
       "      <th>4</th>\n",
       "      <td>276729</td>\n",
       "      <td>521795028</td>\n",
       "      <td>7</td>\n",
       "    </tr>\n",
       "  </tbody>\n",
       "</table>\n",
       "</div>"
      ],
      "text/plain": [
       "   User-ID        ISBN  Book-Rating\n",
       "0   276725  034545104X            5\n",
       "1   276726   155061224            2\n",
       "2   276727   446520802            9\n",
       "3   276729  052165615X            6\n",
       "4   276729   521795028            7"
      ]
     },
     "execution_count": 6,
     "metadata": {},
     "output_type": "execute_result"
    }
   ],
   "source": [
    "ratings_df.head()"
   ]
  },
  {
   "cell_type": "markdown",
   "id": "314839d0",
   "metadata": {},
   "source": [
    "### User input for making recommendations"
   ]
  },
  {
   "cell_type": "code",
   "execution_count": 15,
   "id": "2d43d842",
   "metadata": {},
   "outputs": [
    {
     "data": {
      "text/html": [
       "<div>\n",
       "<style scoped>\n",
       "    .dataframe tbody tr th:only-of-type {\n",
       "        vertical-align: middle;\n",
       "    }\n",
       "\n",
       "    .dataframe tbody tr th {\n",
       "        vertical-align: top;\n",
       "    }\n",
       "\n",
       "    .dataframe thead th {\n",
       "        text-align: right;\n",
       "    }\n",
       "</style>\n",
       "<table border=\"1\" class=\"dataframe\">\n",
       "  <thead>\n",
       "    <tr style=\"text-align: right;\">\n",
       "      <th></th>\n",
       "      <th>Book-Title</th>\n",
       "      <th>Book-Rating</th>\n",
       "    </tr>\n",
       "  </thead>\n",
       "  <tbody>\n",
       "    <tr>\n",
       "      <th>0</th>\n",
       "      <td>Lightning</td>\n",
       "      <td>9</td>\n",
       "    </tr>\n",
       "    <tr>\n",
       "      <th>1</th>\n",
       "      <td>Manhattan Hunt Club</td>\n",
       "      <td>9</td>\n",
       "    </tr>\n",
       "    <tr>\n",
       "      <th>2</th>\n",
       "      <td>Clara Callan</td>\n",
       "      <td>7</td>\n",
       "    </tr>\n",
       "    <tr>\n",
       "      <th>3</th>\n",
       "      <td>Jane Doe</td>\n",
       "      <td>2</td>\n",
       "    </tr>\n",
       "    <tr>\n",
       "      <th>4</th>\n",
       "      <td>Wild Animus</td>\n",
       "      <td>5</td>\n",
       "    </tr>\n",
       "  </tbody>\n",
       "</table>\n",
       "</div>"
      ],
      "text/plain": [
       "            Book-Title  Book-Rating\n",
       "0            Lightning            9\n",
       "1  Manhattan Hunt Club            9\n",
       "2         Clara Callan            7\n",
       "3             Jane Doe            2\n",
       "4          Wild Animus            5"
      ]
     },
     "execution_count": 15,
     "metadata": {},
     "output_type": "execute_result"
    }
   ],
   "source": [
    "userInput = [\n",
    "            {'Book-Title': 'Lightning', 'Book-Rating': 9},\n",
    "            {'Book-Title': 'Manhattan Hunt Club', 'Book-Rating': 9},\n",
    "            {'Book-Title': 'Clara Callan', 'Book-Rating': 7},\n",
    "            {'Book-Title': \"Jane Doe\", 'Book-Rating': 2},\n",
    "            {'Book-Title': 'Wild Animus', 'Book-Rating': 5}\n",
    "         ]\n",
    "inputBooks= pd.DataFrame(userInput)\n",
    "inputBooks"
   ]
  },
  {
   "cell_type": "markdown",
   "id": "9279f238",
   "metadata": {},
   "source": [
    "### Looking for ISBN number of the books"
   ]
  },
  {
   "cell_type": "code",
   "execution_count": 16,
   "id": "728d417f",
   "metadata": {},
   "outputs": [
    {
     "data": {
      "text/html": [
       "<div>\n",
       "<style scoped>\n",
       "    .dataframe tbody tr th:only-of-type {\n",
       "        vertical-align: middle;\n",
       "    }\n",
       "\n",
       "    .dataframe tbody tr th {\n",
       "        vertical-align: top;\n",
       "    }\n",
       "\n",
       "    .dataframe thead th {\n",
       "        text-align: right;\n",
       "    }\n",
       "</style>\n",
       "<table border=\"1\" class=\"dataframe\">\n",
       "  <thead>\n",
       "    <tr style=\"text-align: right;\">\n",
       "      <th></th>\n",
       "      <th>ISBN</th>\n",
       "      <th>Book-Title</th>\n",
       "      <th>Book-Author</th>\n",
       "      <th>Book-Rating</th>\n",
       "    </tr>\n",
       "  </thead>\n",
       "  <tbody>\n",
       "    <tr>\n",
       "      <th>0</th>\n",
       "      <td>0002005018</td>\n",
       "      <td>Clara Callan</td>\n",
       "      <td>Richard Bruce Wright</td>\n",
       "      <td>7</td>\n",
       "    </tr>\n",
       "    <tr>\n",
       "      <th>1</th>\n",
       "      <td>0971880107</td>\n",
       "      <td>Wild Animus</td>\n",
       "      <td>Rich Shapero</td>\n",
       "      <td>5</td>\n",
       "    </tr>\n",
       "    <tr>\n",
       "      <th>2</th>\n",
       "      <td>0449006522</td>\n",
       "      <td>Manhattan Hunt Club</td>\n",
       "      <td>JOHN SAUL</td>\n",
       "      <td>9</td>\n",
       "    </tr>\n",
       "    <tr>\n",
       "      <th>3</th>\n",
       "      <td>1551665107</td>\n",
       "      <td>Jane Doe</td>\n",
       "      <td>R.J. Kaiser</td>\n",
       "      <td>2</td>\n",
       "    </tr>\n",
       "    <tr>\n",
       "      <th>4</th>\n",
       "      <td>0553290703</td>\n",
       "      <td>Lightning</td>\n",
       "      <td>Patricia Potter</td>\n",
       "      <td>9</td>\n",
       "    </tr>\n",
       "  </tbody>\n",
       "</table>\n",
       "</div>"
      ],
      "text/plain": [
       "         ISBN           Book-Title           Book-Author  Book-Rating\n",
       "0  0002005018         Clara Callan  Richard Bruce Wright            7\n",
       "1  0971880107          Wild Animus          Rich Shapero            5\n",
       "2  0449006522  Manhattan Hunt Club             JOHN SAUL            9\n",
       "3  1551665107             Jane Doe           R.J. Kaiser            2\n",
       "4  0553290703            Lightning       Patricia Potter            9"
      ]
     },
     "execution_count": 16,
     "metadata": {},
     "output_type": "execute_result"
    }
   ],
   "source": [
    "# Filtering out the movies by title\n",
    "inputId = books_df[books_df['Book-Title'].isin(inputBooks['Book-Title'].tolist())]\n",
    "# Then merging it so we can get the movieId. It's implicitly merging it by title.\n",
    "inputBooks = pd.merge(inputId, inputBooks)\n",
    "# Dropping information we won't use from the input dataframe\n",
    "inputBooks = inputBooks.drop('Year-Of-Publication', 1)\n",
    "# Final input dataframe\n",
    "# If a movie you added in above isn't here, then it might not be in the original \n",
    "# dataframe or it might spelled differently, please check capitalisation.\n",
    "inputBooks"
   ]
  },
  {
   "cell_type": "markdown",
   "id": "a454ad93",
   "metadata": {},
   "source": [
    "We had merged our recommendation dataframe and the ISBN number of the books with book's author."
   ]
  },
  {
   "cell_type": "code",
   "execution_count": 17,
   "id": "8ffc83df",
   "metadata": {},
   "outputs": [
    {
     "data": {
      "text/html": [
       "<div>\n",
       "<style scoped>\n",
       "    .dataframe tbody tr th:only-of-type {\n",
       "        vertical-align: middle;\n",
       "    }\n",
       "\n",
       "    .dataframe tbody tr th {\n",
       "        vertical-align: top;\n",
       "    }\n",
       "\n",
       "    .dataframe thead th {\n",
       "        text-align: right;\n",
       "    }\n",
       "</style>\n",
       "<table border=\"1\" class=\"dataframe\">\n",
       "  <thead>\n",
       "    <tr style=\"text-align: right;\">\n",
       "      <th></th>\n",
       "      <th>User-ID</th>\n",
       "      <th>ISBN</th>\n",
       "      <th>Book-Rating</th>\n",
       "    </tr>\n",
       "  </thead>\n",
       "  <tbody>\n",
       "    <tr>\n",
       "      <th>86676</th>\n",
       "      <td>18401</td>\n",
       "      <td>1551665107</td>\n",
       "      <td>3</td>\n",
       "    </tr>\n",
       "    <tr>\n",
       "      <th>128287</th>\n",
       "      <td>29806</td>\n",
       "      <td>1551665107</td>\n",
       "      <td>5</td>\n",
       "    </tr>\n",
       "    <tr>\n",
       "      <th>162695</th>\n",
       "      <td>35859</td>\n",
       "      <td>1551665107</td>\n",
       "      <td>1</td>\n",
       "    </tr>\n",
       "    <tr>\n",
       "      <th>166997</th>\n",
       "      <td>36609</td>\n",
       "      <td>1551665107</td>\n",
       "      <td>5</td>\n",
       "    </tr>\n",
       "    <tr>\n",
       "      <th>201177</th>\n",
       "      <td>45114</td>\n",
       "      <td>1551665107</td>\n",
       "      <td>5</td>\n",
       "    </tr>\n",
       "  </tbody>\n",
       "</table>\n",
       "</div>"
      ],
      "text/plain": [
       "        User-ID        ISBN  Book-Rating\n",
       "86676     18401  1551665107            3\n",
       "128287    29806  1551665107            5\n",
       "162695    35859  1551665107            1\n",
       "166997    36609  1551665107            5\n",
       "201177    45114  1551665107            5"
      ]
     },
     "execution_count": 17,
     "metadata": {},
     "output_type": "execute_result"
    }
   ],
   "source": [
    "# Filtering out users that have watched movies that the input has watched and storing it\n",
    "userSubset = ratings_df[ratings_df['ISBN'].isin(inputBooks['ISBN'].tolist())]\n",
    "userSubset.head()"
   ]
  },
  {
   "cell_type": "code",
   "execution_count": 18,
   "id": "be6165ec",
   "metadata": {},
   "outputs": [],
   "source": [
    "userSubsetGroup = userSubset.groupby(['User-ID'])"
   ]
  },
  {
   "cell_type": "code",
   "execution_count": 19,
   "id": "193b546b",
   "metadata": {},
   "outputs": [
    {
     "data": {
      "text/html": [
       "<div>\n",
       "<style scoped>\n",
       "    .dataframe tbody tr th:only-of-type {\n",
       "        vertical-align: middle;\n",
       "    }\n",
       "\n",
       "    .dataframe tbody tr th {\n",
       "        vertical-align: top;\n",
       "    }\n",
       "\n",
       "    .dataframe thead th {\n",
       "        text-align: right;\n",
       "    }\n",
       "</style>\n",
       "<table border=\"1\" class=\"dataframe\">\n",
       "  <thead>\n",
       "    <tr style=\"text-align: right;\">\n",
       "      <th></th>\n",
       "      <th>User-ID</th>\n",
       "      <th>ISBN</th>\n",
       "      <th>Book-Rating</th>\n",
       "    </tr>\n",
       "  </thead>\n",
       "  <tbody>\n",
       "    <tr>\n",
       "      <th>86676</th>\n",
       "      <td>18401</td>\n",
       "      <td>1551665107</td>\n",
       "      <td>3</td>\n",
       "    </tr>\n",
       "  </tbody>\n",
       "</table>\n",
       "</div>"
      ],
      "text/plain": [
       "       User-ID        ISBN  Book-Rating\n",
       "86676    18401  1551665107            3"
      ]
     },
     "execution_count": 19,
     "metadata": {},
     "output_type": "execute_result"
    }
   ],
   "source": [
    "userSubsetGroup.get_group(18401)"
   ]
  },
  {
   "cell_type": "code",
   "execution_count": 20,
   "id": "90e8380e",
   "metadata": {},
   "outputs": [],
   "source": [
    "userSubsetGroup = sorted(userSubsetGroup,  key=lambda x: len(x[1]), reverse=True)"
   ]
  },
  {
   "cell_type": "code",
   "execution_count": 21,
   "id": "5bb60e22",
   "metadata": {},
   "outputs": [
    {
     "data": {
      "text/plain": [
       "[(18401,\n",
       "         User-ID        ISBN  Book-Rating\n",
       "  86676    18401  1551665107            3),\n",
       " (29806,\n",
       "          User-ID        ISBN  Book-Rating\n",
       "  128287    29806  1551665107            5),\n",
       " (35859,\n",
       "          User-ID        ISBN  Book-Rating\n",
       "  162695    35859  1551665107            1)]"
      ]
     },
     "execution_count": 21,
     "metadata": {},
     "output_type": "execute_result"
    }
   ],
   "source": [
    "userSubsetGroup[0:3]"
   ]
  },
  {
   "cell_type": "code",
   "execution_count": 22,
   "id": "608acf6c",
   "metadata": {},
   "outputs": [],
   "source": [
    "userSubsetGroup = userSubsetGroup[0:100]"
   ]
  },
  {
   "cell_type": "markdown",
   "id": "696b8391",
   "metadata": {},
   "source": [
    "### Building Pearson correlation for the recommendation\n",
    "\n",
    "<img src=\"https://www.datasciencemadesimple.com/wp-content/uploads/2017/07/CORRELATION-COEFFICIENT-FORMULA.png?ezimgfmt=ng:webp/ngcb1\" alt=\"pearson correlation\">\n",
    "\n",
    "Where x and y are the sample means of the two arrays of values.\n",
    "\n",
    "r = correlation coefficient\n",
    "\n",
    "If the resultant value – r is close to +1, this indicates a <strong>strong positive correlation.</strong>\n",
    "\n",
    "If the resultant value – r is close to -1, this indicates a <strong>strong negative correlation</strong>"
   ]
  },
  {
   "cell_type": "code",
   "execution_count": 23,
   "id": "a994638e",
   "metadata": {},
   "outputs": [],
   "source": [
    "# Store the Pearson correlation in a dictionary, where the key is the user Id and the value is the coefficient\n",
    "pearsonCorrelationDict = {}\n",
    "\n",
    "# For every user group in our subset\n",
    "for name, group in userSubsetGroup:\n",
    "    # Let's start by sorting the input and current user group so the values aren't mixed up later on\n",
    "    group = group.sort_values(by='ISBN')\n",
    "    inputBooks = inputBooks.sort_values(by='ISBN')\n",
    "    # Get the N for the formula\n",
    "    nRatings = len(group)\n",
    "    # Get the review scores for the movies that they both have in common\n",
    "    temp_df = inputBooks[inputBooks['ISBN'].isin(group['ISBN'].tolist())]\n",
    "    # And then store them in a temporary buffer variable in a list format to facilitate future calculations\n",
    "    tempRatingList = temp_df['Book-Rating'].tolist()\n",
    "    # Let's also put the current user group reviews in a list format\n",
    "    tempGroupList = group['Book-Rating'].tolist()\n",
    "    # Now let's calculate the Pearson correlation between two users, so called, x and y\n",
    "    Sxx = sum([i**2 for i in tempRatingList]) - pow(sum(tempRatingList),2)/float(nRatings)\n",
    "    Syy = sum([i**2 for i in tempGroupList]) - pow(sum(tempGroupList),2)/float(nRatings)\n",
    "    Sxy = sum( i*j for i, j in zip(tempRatingList, tempGroupList)) - sum(tempRatingList)*sum(tempGroupList)/float(nRatings)\n",
    "    \n",
    "    #If the denominator is different than zero, then divide, else, 0 correlation.\n",
    "    if Sxx != 0 and Syy != 0:\n",
    "        pearsonCorrelationDict[name] = Sxy/sqrt(Sxx*Syy)\n",
    "    else:\n",
    "        pearsonCorrelationDict[name] = 0\n",
    "\n",
    "# Thanks to IBM, they showed me how to build Pearson correlation on python."
   ]
  },
  {
   "cell_type": "code",
   "execution_count": 24,
   "id": "dd0f18a0",
   "metadata": {},
   "outputs": [
    {
     "data": {
      "text/plain": [
       "dict_items([(18401, 0), (29806, 0), (35859, 0), (36609, 0), (45114, 0), (72238, 0), (73394, 0), (78553, 0), (79903, 0), (93518, 0), (135265, 0), (135321, 0), (143411, 0), (158295, 0), (166596, 0), (167349, 0), (175003, 0), (201451, 0), (221908, 0), (230522, 0), (242824, 0)])"
      ]
     },
     "execution_count": 24,
     "metadata": {},
     "output_type": "execute_result"
    }
   ],
   "source": [
    "pearsonCorrelationDict.items()"
   ]
  },
  {
   "cell_type": "markdown",
   "id": "9ecceef8",
   "metadata": {},
   "source": [
    "### Pearson correlation dictonary on DataFrame"
   ]
  },
  {
   "cell_type": "code",
   "execution_count": 25,
   "id": "144a2299",
   "metadata": {},
   "outputs": [
    {
     "data": {
      "text/html": [
       "<div>\n",
       "<style scoped>\n",
       "    .dataframe tbody tr th:only-of-type {\n",
       "        vertical-align: middle;\n",
       "    }\n",
       "\n",
       "    .dataframe tbody tr th {\n",
       "        vertical-align: top;\n",
       "    }\n",
       "\n",
       "    .dataframe thead th {\n",
       "        text-align: right;\n",
       "    }\n",
       "</style>\n",
       "<table border=\"1\" class=\"dataframe\">\n",
       "  <thead>\n",
       "    <tr style=\"text-align: right;\">\n",
       "      <th></th>\n",
       "      <th>similarityIndex</th>\n",
       "      <th>userId</th>\n",
       "    </tr>\n",
       "  </thead>\n",
       "  <tbody>\n",
       "    <tr>\n",
       "      <th>0</th>\n",
       "      <td>0</td>\n",
       "      <td>18401</td>\n",
       "    </tr>\n",
       "    <tr>\n",
       "      <th>1</th>\n",
       "      <td>0</td>\n",
       "      <td>29806</td>\n",
       "    </tr>\n",
       "    <tr>\n",
       "      <th>2</th>\n",
       "      <td>0</td>\n",
       "      <td>35859</td>\n",
       "    </tr>\n",
       "    <tr>\n",
       "      <th>3</th>\n",
       "      <td>0</td>\n",
       "      <td>36609</td>\n",
       "    </tr>\n",
       "    <tr>\n",
       "      <th>4</th>\n",
       "      <td>0</td>\n",
       "      <td>45114</td>\n",
       "    </tr>\n",
       "  </tbody>\n",
       "</table>\n",
       "</div>"
      ],
      "text/plain": [
       "   similarityIndex  userId\n",
       "0                0   18401\n",
       "1                0   29806\n",
       "2                0   35859\n",
       "3                0   36609\n",
       "4                0   45114"
      ]
     },
     "execution_count": 25,
     "metadata": {},
     "output_type": "execute_result"
    }
   ],
   "source": [
    "pearsonDF = pd.DataFrame.from_dict(pearsonCorrelationDict, orient='index')\n",
    "pearsonDF.columns = ['similarityIndex']\n",
    "pearsonDF['userId'] = pearsonDF.index\n",
    "pearsonDF.index = range(len(pearsonDF))\n",
    "pearsonDF.head()"
   ]
  },
  {
   "cell_type": "markdown",
   "id": "4d3b9a12",
   "metadata": {},
   "source": [
    "### Sort topUsers DataFrame based on similarity index"
   ]
  },
  {
   "cell_type": "code",
   "execution_count": 26,
   "id": "73e8a4b0",
   "metadata": {},
   "outputs": [
    {
     "data": {
      "text/html": [
       "<div>\n",
       "<style scoped>\n",
       "    .dataframe tbody tr th:only-of-type {\n",
       "        vertical-align: middle;\n",
       "    }\n",
       "\n",
       "    .dataframe tbody tr th {\n",
       "        vertical-align: top;\n",
       "    }\n",
       "\n",
       "    .dataframe thead th {\n",
       "        text-align: right;\n",
       "    }\n",
       "</style>\n",
       "<table border=\"1\" class=\"dataframe\">\n",
       "  <thead>\n",
       "    <tr style=\"text-align: right;\">\n",
       "      <th></th>\n",
       "      <th>similarityIndex</th>\n",
       "      <th>userId</th>\n",
       "    </tr>\n",
       "  </thead>\n",
       "  <tbody>\n",
       "    <tr>\n",
       "      <th>0</th>\n",
       "      <td>0</td>\n",
       "      <td>18401</td>\n",
       "    </tr>\n",
       "    <tr>\n",
       "      <th>11</th>\n",
       "      <td>0</td>\n",
       "      <td>135321</td>\n",
       "    </tr>\n",
       "    <tr>\n",
       "      <th>19</th>\n",
       "      <td>0</td>\n",
       "      <td>230522</td>\n",
       "    </tr>\n",
       "    <tr>\n",
       "      <th>18</th>\n",
       "      <td>0</td>\n",
       "      <td>221908</td>\n",
       "    </tr>\n",
       "    <tr>\n",
       "      <th>17</th>\n",
       "      <td>0</td>\n",
       "      <td>201451</td>\n",
       "    </tr>\n",
       "  </tbody>\n",
       "</table>\n",
       "</div>"
      ],
      "text/plain": [
       "    similarityIndex  userId\n",
       "0                 0   18401\n",
       "11                0  135321\n",
       "19                0  230522\n",
       "18                0  221908\n",
       "17                0  201451"
      ]
     },
     "execution_count": 26,
     "metadata": {},
     "output_type": "execute_result"
    }
   ],
   "source": [
    "topUsers=pearsonDF.sort_values(by='similarityIndex', ascending=False)[0:50]\n",
    "topUsers.head()"
   ]
  },
  {
   "cell_type": "markdown",
   "id": "7dc77dfe",
   "metadata": {},
   "source": [
    "### Merge topUsers DataFrame with ratings_df DataFrame"
   ]
  },
  {
   "cell_type": "code",
   "execution_count": 27,
   "id": "f86c2a22",
   "metadata": {},
   "outputs": [
    {
     "data": {
      "text/html": [
       "<div>\n",
       "<style scoped>\n",
       "    .dataframe tbody tr th:only-of-type {\n",
       "        vertical-align: middle;\n",
       "    }\n",
       "\n",
       "    .dataframe tbody tr th {\n",
       "        vertical-align: top;\n",
       "    }\n",
       "\n",
       "    .dataframe thead th {\n",
       "        text-align: right;\n",
       "    }\n",
       "</style>\n",
       "<table border=\"1\" class=\"dataframe\">\n",
       "  <thead>\n",
       "    <tr style=\"text-align: right;\">\n",
       "      <th></th>\n",
       "      <th>similarityIndex</th>\n",
       "      <th>userId</th>\n",
       "      <th>User-ID</th>\n",
       "      <th>ISBN</th>\n",
       "      <th>Book-Rating</th>\n",
       "    </tr>\n",
       "  </thead>\n",
       "  <tbody>\n",
       "    <tr>\n",
       "      <th>0</th>\n",
       "      <td>0</td>\n",
       "      <td>18401</td>\n",
       "      <td>18401</td>\n",
       "      <td>60009241</td>\n",
       "      <td>8</td>\n",
       "    </tr>\n",
       "    <tr>\n",
       "      <th>1</th>\n",
       "      <td>0</td>\n",
       "      <td>18401</td>\n",
       "      <td>18401</td>\n",
       "      <td>60085444</td>\n",
       "      <td>9</td>\n",
       "    </tr>\n",
       "    <tr>\n",
       "      <th>2</th>\n",
       "      <td>0</td>\n",
       "      <td>18401</td>\n",
       "      <td>18401</td>\n",
       "      <td>60092149</td>\n",
       "      <td>5</td>\n",
       "    </tr>\n",
       "    <tr>\n",
       "      <th>3</th>\n",
       "      <td>0</td>\n",
       "      <td>18401</td>\n",
       "      <td>18401</td>\n",
       "      <td>60502177</td>\n",
       "      <td>6</td>\n",
       "    </tr>\n",
       "    <tr>\n",
       "      <th>4</th>\n",
       "      <td>0</td>\n",
       "      <td>18401</td>\n",
       "      <td>18401</td>\n",
       "      <td>61012513</td>\n",
       "      <td>7</td>\n",
       "    </tr>\n",
       "  </tbody>\n",
       "</table>\n",
       "</div>"
      ],
      "text/plain": [
       "   similarityIndex  userId  User-ID      ISBN  Book-Rating\n",
       "0                0   18401    18401  60009241            8\n",
       "1                0   18401    18401  60085444            9\n",
       "2                0   18401    18401  60092149            5\n",
       "3                0   18401    18401  60502177            6\n",
       "4                0   18401    18401  61012513            7"
      ]
     },
     "execution_count": 27,
     "metadata": {},
     "output_type": "execute_result"
    }
   ],
   "source": [
    "topUsersRating=topUsers.merge(ratings_df, left_on='userId', right_on='User-ID', how='inner')\n",
    "topUsersRating.head()"
   ]
  },
  {
   "cell_type": "markdown",
   "id": "42f58e45",
   "metadata": {},
   "source": [
    "### Multiplies the similarity by the user's ratings"
   ]
  },
  {
   "cell_type": "code",
   "execution_count": 28,
   "id": "47aad161",
   "metadata": {},
   "outputs": [
    {
     "data": {
      "text/html": [
       "<div>\n",
       "<style scoped>\n",
       "    .dataframe tbody tr th:only-of-type {\n",
       "        vertical-align: middle;\n",
       "    }\n",
       "\n",
       "    .dataframe tbody tr th {\n",
       "        vertical-align: top;\n",
       "    }\n",
       "\n",
       "    .dataframe thead th {\n",
       "        text-align: right;\n",
       "    }\n",
       "</style>\n",
       "<table border=\"1\" class=\"dataframe\">\n",
       "  <thead>\n",
       "    <tr style=\"text-align: right;\">\n",
       "      <th></th>\n",
       "      <th>similarityIndex</th>\n",
       "      <th>userId</th>\n",
       "      <th>User-ID</th>\n",
       "      <th>ISBN</th>\n",
       "      <th>Book-Rating</th>\n",
       "      <th>weightedRating</th>\n",
       "    </tr>\n",
       "  </thead>\n",
       "  <tbody>\n",
       "    <tr>\n",
       "      <th>0</th>\n",
       "      <td>0</td>\n",
       "      <td>18401</td>\n",
       "      <td>18401</td>\n",
       "      <td>60009241</td>\n",
       "      <td>8</td>\n",
       "      <td>0</td>\n",
       "    </tr>\n",
       "    <tr>\n",
       "      <th>1</th>\n",
       "      <td>0</td>\n",
       "      <td>18401</td>\n",
       "      <td>18401</td>\n",
       "      <td>60085444</td>\n",
       "      <td>9</td>\n",
       "      <td>0</td>\n",
       "    </tr>\n",
       "    <tr>\n",
       "      <th>2</th>\n",
       "      <td>0</td>\n",
       "      <td>18401</td>\n",
       "      <td>18401</td>\n",
       "      <td>60092149</td>\n",
       "      <td>5</td>\n",
       "      <td>0</td>\n",
       "    </tr>\n",
       "    <tr>\n",
       "      <th>3</th>\n",
       "      <td>0</td>\n",
       "      <td>18401</td>\n",
       "      <td>18401</td>\n",
       "      <td>60502177</td>\n",
       "      <td>6</td>\n",
       "      <td>0</td>\n",
       "    </tr>\n",
       "    <tr>\n",
       "      <th>4</th>\n",
       "      <td>0</td>\n",
       "      <td>18401</td>\n",
       "      <td>18401</td>\n",
       "      <td>61012513</td>\n",
       "      <td>7</td>\n",
       "      <td>0</td>\n",
       "    </tr>\n",
       "  </tbody>\n",
       "</table>\n",
       "</div>"
      ],
      "text/plain": [
       "   similarityIndex  userId  User-ID      ISBN  Book-Rating  weightedRating\n",
       "0                0   18401    18401  60009241            8               0\n",
       "1                0   18401    18401  60085444            9               0\n",
       "2                0   18401    18401  60092149            5               0\n",
       "3                0   18401    18401  60502177            6               0\n",
       "4                0   18401    18401  61012513            7               0"
      ]
     },
     "execution_count": 28,
     "metadata": {},
     "output_type": "execute_result"
    }
   ],
   "source": [
    "topUsersRating['weightedRating'] = topUsersRating['similarityIndex']*topUsersRating['Book-Rating']\n",
    "topUsersRating.head()"
   ]
  },
  {
   "cell_type": "markdown",
   "id": "4b7fefe4",
   "metadata": {},
   "source": [
    "### Applies a sum to the topUsers after grouping it up by userId"
   ]
  },
  {
   "cell_type": "code",
   "execution_count": 29,
   "id": "98267b99",
   "metadata": {},
   "outputs": [
    {
     "data": {
      "text/html": [
       "<div>\n",
       "<style scoped>\n",
       "    .dataframe tbody tr th:only-of-type {\n",
       "        vertical-align: middle;\n",
       "    }\n",
       "\n",
       "    .dataframe tbody tr th {\n",
       "        vertical-align: top;\n",
       "    }\n",
       "\n",
       "    .dataframe thead th {\n",
       "        text-align: right;\n",
       "    }\n",
       "</style>\n",
       "<table border=\"1\" class=\"dataframe\">\n",
       "  <thead>\n",
       "    <tr style=\"text-align: right;\">\n",
       "      <th></th>\n",
       "      <th>sum_similarityIndex</th>\n",
       "      <th>sum_weightedRating</th>\n",
       "    </tr>\n",
       "    <tr>\n",
       "      <th>ISBN</th>\n",
       "      <th></th>\n",
       "      <th></th>\n",
       "    </tr>\n",
       "  </thead>\n",
       "  <tbody>\n",
       "    <tr>\n",
       "      <th>000104799X</th>\n",
       "      <td>0</td>\n",
       "      <td>0</td>\n",
       "    </tr>\n",
       "    <tr>\n",
       "      <th>002026478X</th>\n",
       "      <td>0</td>\n",
       "      <td>0</td>\n",
       "    </tr>\n",
       "    <tr>\n",
       "      <th>002045211X</th>\n",
       "      <td>0</td>\n",
       "      <td>0</td>\n",
       "    </tr>\n",
       "    <tr>\n",
       "      <th>002089130X</th>\n",
       "      <td>0</td>\n",
       "      <td>0</td>\n",
       "    </tr>\n",
       "    <tr>\n",
       "      <th>006000147X</th>\n",
       "      <td>0</td>\n",
       "      <td>0</td>\n",
       "    </tr>\n",
       "  </tbody>\n",
       "</table>\n",
       "</div>"
      ],
      "text/plain": [
       "            sum_similarityIndex  sum_weightedRating\n",
       "ISBN                                               \n",
       "000104799X                    0                   0\n",
       "002026478X                    0                   0\n",
       "002045211X                    0                   0\n",
       "002089130X                    0                   0\n",
       "006000147X                    0                   0"
      ]
     },
     "execution_count": 29,
     "metadata": {},
     "output_type": "execute_result"
    }
   ],
   "source": [
    "tempTopUsersRating = topUsersRating.groupby('ISBN').sum()[['similarityIndex','weightedRating']]\n",
    "tempTopUsersRating.columns = ['sum_similarityIndex','sum_weightedRating']\n",
    "tempTopUsersRating.head()"
   ]
  },
  {
   "cell_type": "code",
   "execution_count": 35,
   "id": "9134045d",
   "metadata": {},
   "outputs": [
    {
     "data": {
      "text/html": [
       "<div>\n",
       "<style scoped>\n",
       "    .dataframe tbody tr th:only-of-type {\n",
       "        vertical-align: middle;\n",
       "    }\n",
       "\n",
       "    .dataframe tbody tr th {\n",
       "        vertical-align: top;\n",
       "    }\n",
       "\n",
       "    .dataframe thead th {\n",
       "        text-align: right;\n",
       "    }\n",
       "</style>\n",
       "<table border=\"1\" class=\"dataframe\">\n",
       "  <thead>\n",
       "    <tr style=\"text-align: right;\">\n",
       "      <th></th>\n",
       "      <th>weighted average recommendation score</th>\n",
       "      <th>ISBN</th>\n",
       "    </tr>\n",
       "    <tr>\n",
       "      <th>ISBN</th>\n",
       "      <th></th>\n",
       "      <th></th>\n",
       "    </tr>\n",
       "  </thead>\n",
       "  <tbody>\n",
       "    <tr>\n",
       "      <th>000104799X</th>\n",
       "      <td>NaN</td>\n",
       "      <td>000104799X</td>\n",
       "    </tr>\n",
       "    <tr>\n",
       "      <th>002026478X</th>\n",
       "      <td>NaN</td>\n",
       "      <td>002026478X</td>\n",
       "    </tr>\n",
       "    <tr>\n",
       "      <th>002045211X</th>\n",
       "      <td>NaN</td>\n",
       "      <td>002045211X</td>\n",
       "    </tr>\n",
       "    <tr>\n",
       "      <th>002089130X</th>\n",
       "      <td>NaN</td>\n",
       "      <td>002089130X</td>\n",
       "    </tr>\n",
       "    <tr>\n",
       "      <th>006000147X</th>\n",
       "      <td>NaN</td>\n",
       "      <td>006000147X</td>\n",
       "    </tr>\n",
       "  </tbody>\n",
       "</table>\n",
       "</div>"
      ],
      "text/plain": [
       "            weighted average recommendation score        ISBN\n",
       "ISBN                                                         \n",
       "000104799X                                    NaN  000104799X\n",
       "002026478X                                    NaN  002026478X\n",
       "002045211X                                    NaN  002045211X\n",
       "002089130X                                    NaN  002089130X\n",
       "006000147X                                    NaN  006000147X"
      ]
     },
     "execution_count": 35,
     "metadata": {},
     "output_type": "execute_result"
    }
   ],
   "source": [
    "recommendation_df = pd.DataFrame()\n",
    "# Now we take the weighted average\n",
    "recommendation_df['weighted average recommendation score'] = tempTopUsersRating['sum_weightedRating']/tempTopUsersRating['sum_similarityIndex']\n",
    "recommendation_df['ISBN'] = tempTopUsersRating.index\n",
    "recommendation_df.head()"
   ]
  },
  {
   "cell_type": "markdown",
   "id": "db855f7b",
   "metadata": {},
   "source": [
    "### Sort recommendation_df DataFrame based on weighted average recommendation score"
   ]
  },
  {
   "cell_type": "code",
   "execution_count": 36,
   "id": "000d70b7",
   "metadata": {},
   "outputs": [
    {
     "data": {
      "text/html": [
       "<div>\n",
       "<style scoped>\n",
       "    .dataframe tbody tr th:only-of-type {\n",
       "        vertical-align: middle;\n",
       "    }\n",
       "\n",
       "    .dataframe tbody tr th {\n",
       "        vertical-align: top;\n",
       "    }\n",
       "\n",
       "    .dataframe thead th {\n",
       "        text-align: right;\n",
       "    }\n",
       "</style>\n",
       "<table border=\"1\" class=\"dataframe\">\n",
       "  <thead>\n",
       "    <tr style=\"text-align: right;\">\n",
       "      <th></th>\n",
       "      <th>weighted average recommendation score</th>\n",
       "      <th>ISBN</th>\n",
       "    </tr>\n",
       "    <tr>\n",
       "      <th>ISBN</th>\n",
       "      <th></th>\n",
       "      <th></th>\n",
       "    </tr>\n",
       "  </thead>\n",
       "  <tbody>\n",
       "    <tr>\n",
       "      <th>000104799X</th>\n",
       "      <td>NaN</td>\n",
       "      <td>000104799X</td>\n",
       "    </tr>\n",
       "    <tr>\n",
       "      <th>002026478X</th>\n",
       "      <td>NaN</td>\n",
       "      <td>002026478X</td>\n",
       "    </tr>\n",
       "    <tr>\n",
       "      <th>002045211X</th>\n",
       "      <td>NaN</td>\n",
       "      <td>002045211X</td>\n",
       "    </tr>\n",
       "    <tr>\n",
       "      <th>002089130X</th>\n",
       "      <td>NaN</td>\n",
       "      <td>002089130X</td>\n",
       "    </tr>\n",
       "    <tr>\n",
       "      <th>006000147X</th>\n",
       "      <td>NaN</td>\n",
       "      <td>006000147X</td>\n",
       "    </tr>\n",
       "  </tbody>\n",
       "</table>\n",
       "</div>"
      ],
      "text/plain": [
       "            weighted average recommendation score        ISBN\n",
       "ISBN                                                         \n",
       "000104799X                                    NaN  000104799X\n",
       "002026478X                                    NaN  002026478X\n",
       "002045211X                                    NaN  002045211X\n",
       "002089130X                                    NaN  002089130X\n",
       "006000147X                                    NaN  006000147X"
      ]
     },
     "execution_count": 36,
     "metadata": {},
     "output_type": "execute_result"
    }
   ],
   "source": [
    "recommendation_df = recommendation_df.sort_values(by='weighted average recommendation score', ascending=False)\n",
    "recommendation_df.head()"
   ]
  },
  {
   "cell_type": "markdown",
   "id": "b8b9d2c7",
   "metadata": {},
   "source": [
    "### Show recommended books with title, author and the year of publication based on ISBN"
   ]
  },
  {
   "cell_type": "code",
   "execution_count": 37,
   "id": "bfbc3bf4",
   "metadata": {},
   "outputs": [
    {
     "data": {
      "text/html": [
       "<div>\n",
       "<style scoped>\n",
       "    .dataframe tbody tr th:only-of-type {\n",
       "        vertical-align: middle;\n",
       "    }\n",
       "\n",
       "    .dataframe tbody tr th {\n",
       "        vertical-align: top;\n",
       "    }\n",
       "\n",
       "    .dataframe thead th {\n",
       "        text-align: right;\n",
       "    }\n",
       "</style>\n",
       "<table border=\"1\" class=\"dataframe\">\n",
       "  <thead>\n",
       "    <tr style=\"text-align: right;\">\n",
       "      <th></th>\n",
       "      <th>ISBN</th>\n",
       "      <th>Book-Title</th>\n",
       "      <th>Book-Author</th>\n",
       "      <th>Year-Of-Publication</th>\n",
       "    </tr>\n",
       "  </thead>\n",
       "  <tbody>\n",
       "    <tr>\n",
       "      <th>3701</th>\n",
       "      <td>002026478X</td>\n",
       "      <td>AGE OF INNOCENCE (MOVIE TIE-IN)</td>\n",
       "      <td>Edith Wharton</td>\n",
       "      <td>1993</td>\n",
       "    </tr>\n",
       "    <tr>\n",
       "      <th>47683</th>\n",
       "      <td>006000181X</td>\n",
       "      <td>With Her Last Breath</td>\n",
       "      <td>Cait London</td>\n",
       "      <td>2003</td>\n",
       "    </tr>\n",
       "    <tr>\n",
       "      <th>49133</th>\n",
       "      <td>006008460X</td>\n",
       "      <td>Cheaper by the Dozen (Perennial Classics)</td>\n",
       "      <td>Frank B. Gilbreth</td>\n",
       "      <td>2002</td>\n",
       "    </tr>\n",
       "    <tr>\n",
       "      <th>51433</th>\n",
       "      <td>000104799X</td>\n",
       "      <td>Monk's-hood</td>\n",
       "      <td>Ellis Peters</td>\n",
       "      <td>1994</td>\n",
       "    </tr>\n",
       "    <tr>\n",
       "      <th>81494</th>\n",
       "      <td>006000553X</td>\n",
       "      <td>Victoria and the Rogue (An Avon True Romance)</td>\n",
       "      <td>Meg Cabot</td>\n",
       "      <td>2003</td>\n",
       "    </tr>\n",
       "    <tr>\n",
       "      <th>127878</th>\n",
       "      <td>006000147X</td>\n",
       "      <td>Cherokee Warriors: The Loner</td>\n",
       "      <td>Genell Dellin</td>\n",
       "      <td>2003</td>\n",
       "    </tr>\n",
       "    <tr>\n",
       "      <th>225224</th>\n",
       "      <td>006008197X</td>\n",
       "      <td>Once Upon a Town : The Miracle of the North Pl...</td>\n",
       "      <td>Bob Greene</td>\n",
       "      <td>2003</td>\n",
       "    </tr>\n",
       "    <tr>\n",
       "      <th>245421</th>\n",
       "      <td>002045211X</td>\n",
       "      <td>Salazar Blinks (Collier Fiction)</td>\n",
       "      <td>David R. Slavitt</td>\n",
       "      <td>1990</td>\n",
       "    </tr>\n",
       "  </tbody>\n",
       "</table>\n",
       "</div>"
      ],
      "text/plain": [
       "              ISBN                                         Book-Title  \\\n",
       "3701    002026478X                    AGE OF INNOCENCE (MOVIE TIE-IN)   \n",
       "47683   006000181X                               With Her Last Breath   \n",
       "49133   006008460X          Cheaper by the Dozen (Perennial Classics)   \n",
       "51433   000104799X                                        Monk's-hood   \n",
       "81494   006000553X      Victoria and the Rogue (An Avon True Romance)   \n",
       "127878  006000147X                       Cherokee Warriors: The Loner   \n",
       "225224  006008197X  Once Upon a Town : The Miracle of the North Pl...   \n",
       "245421  002045211X                   Salazar Blinks (Collier Fiction)   \n",
       "\n",
       "              Book-Author Year-Of-Publication  \n",
       "3701        Edith Wharton                1993  \n",
       "47683         Cait London                2003  \n",
       "49133   Frank B. Gilbreth                2002  \n",
       "51433        Ellis Peters                1994  \n",
       "81494           Meg Cabot                2003  \n",
       "127878      Genell Dellin                2003  \n",
       "225224         Bob Greene                2003  \n",
       "245421   David R. Slavitt                1990  "
      ]
     },
     "execution_count": 37,
     "metadata": {},
     "output_type": "execute_result"
    }
   ],
   "source": [
    "books_df.loc[books_df['ISBN'].isin(recommendation_df.head(10)['ISBN'].tolist())]"
   ]
  },
  {
   "cell_type": "code",
   "execution_count": null,
   "id": "ddce3bf6",
   "metadata": {},
   "outputs": [],
   "source": []
  }
 ],
 "metadata": {
  "kernelspec": {
   "display_name": "Python 3 (ipykernel)",
   "language": "python",
   "name": "python3"
  },
  "language_info": {
   "codemirror_mode": {
    "name": "ipython",
    "version": 3
   },
   "file_extension": ".py",
   "mimetype": "text/x-python",
   "name": "python",
   "nbconvert_exporter": "python",
   "pygments_lexer": "ipython3",
   "version": "3.9.7"
  }
 },
 "nbformat": 4,
 "nbformat_minor": 5
}
