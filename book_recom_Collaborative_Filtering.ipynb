{
  "cells": [
    {
      "cell_type": "markdown",
      "source": [
        "<h1 align=center><font size = 6>Book Recommendation with Collaborative Filtering</font></h1>\n",
        "\n",
        "<br>\n",
        "\n",
        "<img src=\"https://img-cdn.inc.com/image/upload/w_1920,h_1080,c_fill/images/panoramic/GettyImages-577674005_492115_zfpgiw.jpg\" height=520 width=1000 alt=\"GitHub\">\n",
        "\n",
        "<br>\n",
        "\n",
        "<small>Picture Source: <a href=\"https://www.inc.com/jessica-stillman/books-reading-intelligence-tyler-cowen.html\">Jessica Stillman</a>\n",
        "\n",
        "<br>\n",
        "\n",
        "<h2>Context</h2>\n",
        "\n",
        "During the last few decades, with the rise of Youtube, Amazon, Netflix and many other such web services, recommender systems have taken more and more place in our lives. From e-commerce (suggest to buyers articles that could interest them) to online advertisement (suggest to users the right contents, matching their preferences), recommender systems are today unavoidable in our daily online journeys. In a very general way, recommender systems are algorithms aimed at suggesting relevant items to users (items being movies to watch, text to read, products to buy or anything else depending on industries).\n",
        "\n",
        "<br>\n",
        "\n",
        "Recommender systems are really critical in some industries as they can generate a huge amount of income when they are efficient or also be a way to stand out significantly from competitors. As a proof of the importance of recommender systems, we can mention that, a few years ago, Netflix organised a challenges (the “Netflix prize”) where the goal was to produce a recommender system that performs better than its own algorithm with a prize of 1 million dollars to win.\n",
        "\n",
        "<br>\n",
        "\n",
        "By applying this simple dataset and related tasks and notebooks , we will evolutionary go through different paradigms of recommender algorithms . For each of them, we will present how they work, describe their theoretical basis and discuss their strengths and weaknesses. For extra information, please check <a href=\"https://www.kaggle.com/arashnic/book-recommendation-dataset\">Kaggle Möbius</a>.\n",
        "\n",
        "<br>\n",
        "<br>\n",
        "\n",
        "<h2>Data Set</h2>\n",
        "\n",
        "<a href=\"https://www.inc.com/jessica-stillman/books-reading-intelligence-tyler-cowen.html\"></a>\n",
        "\n",
        "\n",
        "Dataset link from Kaggle: [Book Recommendation Dataset](https://www.kaggle.com/arashnic/book-recommendation-dataset)\n",
        "\n",
        "<br>\n",
        "\n",
        "<h2>Objective:</h2>\n",
        "<ul>\n",
        "  <li>Understand the dataset.</li>\n",
        "  <li>Build Pearson correlation.</li>\n",
        "  <li>Make recommendations.</li>\n",
        "</ul>\n",
        "\n",
        "<br>\n",
        "<h2>Keywords</h2>\n",
        "<ul>\n",
        "  <li>Computer Science</li>\n",
        "  <li>Collaborative Filtering</li>\n",
        "  <li>Pearson Correlation</li>\n",
        "  <li>Recommendation Systems</li>\n",
        "  <li>Book Recommendation</li>\n",
        "</ul>\n",
        "<br>\n",
        "\n",
        "<h2>Content</h2>\n",
        "\n",
        "<div class=\"alert alert-block alert-info\" style=\"margin-top: 20px\">\n",
        "\n",
        "<li><a href=\"https://#\">Importing Libraries</a></li>\n",
        "<li><a href=\"https://#\">Data Pre-processing</a></li>\n",
        "<li><a href=\"https://#\">Pearson Cerrelation for the Recommendation</a></li>\n",
        "<br>\n",
        "\n",
        "<p></p>\n",
        "Estimated Time Needed: <strong>25 min</strong>\n",
        "</div>"
      ],
      "metadata": {
        "id": "dloZiH4LqpnY"
      },
      "id": "dloZiH4LqpnY"
    },
    {
      "cell_type": "markdown",
      "id": "37428d8e",
      "metadata": {
        "id": "37428d8e"
      },
      "source": [
        "## 1. Imporing Libraries"
      ]
    },
    {
      "cell_type": "markdown",
      "source": [
        "We set the stage by importing essential libraries that will empower our exploration into personalized book recommendations. Each library plays a unique role in the analytical and mathematical aspects.\n",
        "\n",
        "<br>\n",
        "\n",
        "- **pandas (as pd):** A powerhouse for data manipulation and analysis, pandas will be our go-to tool for handling datasets with finesse.\n",
        "\n",
        "- **sqrt from math:** The square root function from the math library will prove handy for certain calculations, especially when dealing with similarity metrics in collaborative filtering.\n",
        "\n",
        "- **numpy (as np):** A fundamental library for numerical operations, numpy will be instrumental in array manipulations and mathematical computations.\n",
        "\n",
        "- **warnings:** We're using the warnings library to suppress any distracting warning messages that might pop up during our analysis. This ensures a cleaner and more focused exploration."
      ],
      "metadata": {
        "id": "qtW3Ct63sXGn"
      },
      "id": "qtW3Ct63sXGn"
    },
    {
      "cell_type": "code",
      "execution_count": null,
      "id": "4572f960",
      "metadata": {
        "id": "4572f960"
      },
      "outputs": [],
      "source": [
        "import pandas as pd\n",
        "from math import sqrt\n",
        "import numpy as np\n",
        "import warnings\n",
        "warnings.filterwarnings(\"ignore\")"
      ]
    },
    {
      "cell_type": "markdown",
      "source": [
        "## 2. Data Pre-processing"
      ],
      "metadata": {
        "id": "b71cuFe3tA45"
      },
      "id": "b71cuFe3tA45"
    },
    {
      "cell_type": "markdown",
      "id": "7a8abd6d",
      "metadata": {
        "id": "7a8abd6d"
      },
      "source": [
        "### 2.1. Seperate Datasets"
      ]
    },
    {
      "cell_type": "markdown",
      "source": [
        "We initiate the exploration by loading and organizing the datasets that form the backbone of our book recommendation analysis.\n",
        "\n",
        "<br>\n",
        "\n",
        "- **books_df:** We start by loading the '**Books.csv**' dataset using pandas. This dataset encapsulates information about various books, including details such as ISBN (International Standard Book Number), book title, author, and year of publication. To streamline our analysis, we selectively choose relevant columns, including ISBN, Book-Title, Book-Author, and Year-Of-Publication.\n",
        "\n",
        "<br>\n",
        "\n",
        "- **ratings_df:** Simultaneously, we import the '**Ratings.csv**' dataset, a crucial component for collaborative filtering. This dataset contains user ratings for various books, forming the basis for understanding user preferences and generating personalized recommendations."
      ],
      "metadata": {
        "id": "7XUpI132suHK"
      },
      "id": "7XUpI132suHK"
    },
    {
      "cell_type": "code",
      "source": [
        "books_df = pd.read_csv('Books.csv')"
      ],
      "metadata": {
        "id": "MshgxL9Ar9ue"
      },
      "id": "MshgxL9Ar9ue",
      "execution_count": null,
      "outputs": []
    },
    {
      "cell_type": "code",
      "source": [
        "books_df = books_df[['ISBN', 'Book-Title', 'Book-Author', 'Year-Of-Publication']]\n",
        "ratings_df = pd.read_csv('Ratings.csv')"
      ],
      "metadata": {
        "id": "GHDyM9wzr-oz"
      },
      "id": "GHDyM9wzr-oz",
      "execution_count": null,
      "outputs": []
    },
    {
      "cell_type": "code",
      "execution_count": null,
      "id": "90269cb0",
      "metadata": {
        "id": "90269cb0",
        "outputId": "e3b90155-0838-45b3-d9f8-54bcdcfd659f"
      },
      "outputs": [
        {
          "data": {
            "text/html": [
              "<div>\n",
              "<style scoped>\n",
              "    .dataframe tbody tr th:only-of-type {\n",
              "        vertical-align: middle;\n",
              "    }\n",
              "\n",
              "    .dataframe tbody tr th {\n",
              "        vertical-align: top;\n",
              "    }\n",
              "\n",
              "    .dataframe thead th {\n",
              "        text-align: right;\n",
              "    }\n",
              "</style>\n",
              "<table border=\"1\" class=\"dataframe\">\n",
              "  <thead>\n",
              "    <tr style=\"text-align: right;\">\n",
              "      <th></th>\n",
              "      <th>ISBN</th>\n",
              "      <th>Book-Title</th>\n",
              "      <th>Book-Author</th>\n",
              "      <th>Year-Of-Publication</th>\n",
              "    </tr>\n",
              "  </thead>\n",
              "  <tbody>\n",
              "    <tr>\n",
              "      <th>0</th>\n",
              "      <td>0195153448</td>\n",
              "      <td>Classical Mythology</td>\n",
              "      <td>Mark P. O. Morford</td>\n",
              "      <td>2002</td>\n",
              "    </tr>\n",
              "    <tr>\n",
              "      <th>1</th>\n",
              "      <td>0002005018</td>\n",
              "      <td>Clara Callan</td>\n",
              "      <td>Richard Bruce Wright</td>\n",
              "      <td>2001</td>\n",
              "    </tr>\n",
              "    <tr>\n",
              "      <th>2</th>\n",
              "      <td>0060973129</td>\n",
              "      <td>Decision in Normandy</td>\n",
              "      <td>Carlo D'Este</td>\n",
              "      <td>1991</td>\n",
              "    </tr>\n",
              "    <tr>\n",
              "      <th>3</th>\n",
              "      <td>0374157065</td>\n",
              "      <td>Flu: The Story of the Great Influenza Pandemic...</td>\n",
              "      <td>Gina Bari Kolata</td>\n",
              "      <td>1999</td>\n",
              "    </tr>\n",
              "    <tr>\n",
              "      <th>4</th>\n",
              "      <td>0393045218</td>\n",
              "      <td>The Mummies of Urumchi</td>\n",
              "      <td>E. J. W. Barber</td>\n",
              "      <td>1999</td>\n",
              "    </tr>\n",
              "  </tbody>\n",
              "</table>\n",
              "</div>"
            ],
            "text/plain": [
              "         ISBN                                         Book-Title  \\\n",
              "0  0195153448                                Classical Mythology   \n",
              "1  0002005018                                       Clara Callan   \n",
              "2  0060973129                               Decision in Normandy   \n",
              "3  0374157065  Flu: The Story of the Great Influenza Pandemic...   \n",
              "4  0393045218                             The Mummies of Urumchi   \n",
              "\n",
              "            Book-Author Year-Of-Publication  \n",
              "0    Mark P. O. Morford                2002  \n",
              "1  Richard Bruce Wright                2001  \n",
              "2          Carlo D'Este                1991  \n",
              "3      Gina Bari Kolata                1999  \n",
              "4       E. J. W. Barber                1999  "
            ]
          },
          "execution_count": 2,
          "metadata": {},
          "output_type": "execute_result"
        }
      ],
      "source": [
        "books_df.head()"
      ]
    },
    {
      "cell_type": "markdown",
      "id": "8e3bb51d",
      "metadata": {
        "id": "8e3bb51d"
      },
      "source": [
        "### 2.2. Looking for Duplicated Book Titles"
      ]
    },
    {
      "cell_type": "markdown",
      "source": [
        "We conduct a critical examination of the '**Book-Title**' column in the '**books_df**' dataset to identify and handle any instances of duplicated book titles."
      ],
      "metadata": {
        "id": "V5cvq1XEtS-l"
      },
      "id": "V5cvq1XEtS-l"
    },
    {
      "cell_type": "code",
      "execution_count": null,
      "id": "696fca9b",
      "metadata": {
        "id": "696fca9b",
        "outputId": "c4e1672d-4b10-47fd-aef7-46748f391a04"
      },
      "outputs": [
        {
          "data": {
            "text/plain": [
              "29225"
            ]
          },
          "execution_count": 3,
          "metadata": {},
          "output_type": "execute_result"
        }
      ],
      "source": [
        "books_df['Book-Title'].duplicated().sum()"
      ]
    },
    {
      "cell_type": "code",
      "execution_count": null,
      "id": "c27b3cc0",
      "metadata": {
        "id": "c27b3cc0"
      },
      "outputs": [],
      "source": [
        "books_df.drop_duplicates(subset='Book-Title', keep=\"last\", inplace=True)"
      ]
    },
    {
      "cell_type": "code",
      "execution_count": null,
      "id": "59b02b52",
      "metadata": {
        "id": "59b02b52",
        "outputId": "b10f07a9-6008-4b25-efd9-b3e3b34c2050"
      },
      "outputs": [
        {
          "data": {
            "text/plain": [
              "0"
            ]
          },
          "execution_count": 5,
          "metadata": {},
          "output_type": "execute_result"
        }
      ],
      "source": [
        "books_df['Book-Title'].duplicated().sum()"
      ]
    },
    {
      "cell_type": "code",
      "execution_count": null,
      "id": "46d6b507",
      "metadata": {
        "id": "46d6b507",
        "outputId": "53b71c25-c246-4a0e-ac08-eb8552104f77"
      },
      "outputs": [
        {
          "data": {
            "text/html": [
              "<div>\n",
              "<style scoped>\n",
              "    .dataframe tbody tr th:only-of-type {\n",
              "        vertical-align: middle;\n",
              "    }\n",
              "\n",
              "    .dataframe tbody tr th {\n",
              "        vertical-align: top;\n",
              "    }\n",
              "\n",
              "    .dataframe thead th {\n",
              "        text-align: right;\n",
              "    }\n",
              "</style>\n",
              "<table border=\"1\" class=\"dataframe\">\n",
              "  <thead>\n",
              "    <tr style=\"text-align: right;\">\n",
              "      <th></th>\n",
              "      <th>User-ID</th>\n",
              "      <th>ISBN</th>\n",
              "      <th>Book-Rating</th>\n",
              "    </tr>\n",
              "  </thead>\n",
              "  <tbody>\n",
              "    <tr>\n",
              "      <th>0</th>\n",
              "      <td>276725</td>\n",
              "      <td>034545104X</td>\n",
              "      <td>5</td>\n",
              "    </tr>\n",
              "    <tr>\n",
              "      <th>1</th>\n",
              "      <td>276726</td>\n",
              "      <td>155061224</td>\n",
              "      <td>2</td>\n",
              "    </tr>\n",
              "    <tr>\n",
              "      <th>2</th>\n",
              "      <td>276727</td>\n",
              "      <td>446520802</td>\n",
              "      <td>9</td>\n",
              "    </tr>\n",
              "    <tr>\n",
              "      <th>3</th>\n",
              "      <td>276729</td>\n",
              "      <td>052165615X</td>\n",
              "      <td>6</td>\n",
              "    </tr>\n",
              "    <tr>\n",
              "      <th>4</th>\n",
              "      <td>276729</td>\n",
              "      <td>521795028</td>\n",
              "      <td>7</td>\n",
              "    </tr>\n",
              "  </tbody>\n",
              "</table>\n",
              "</div>"
            ],
            "text/plain": [
              "   User-ID        ISBN  Book-Rating\n",
              "0   276725  034545104X            5\n",
              "1   276726   155061224            2\n",
              "2   276727   446520802            9\n",
              "3   276729  052165615X            6\n",
              "4   276729   521795028            7"
            ]
          },
          "execution_count": 6,
          "metadata": {},
          "output_type": "execute_result"
        }
      ],
      "source": [
        "ratings_df.head()"
      ]
    },
    {
      "cell_type": "markdown",
      "id": "314839d0",
      "metadata": {
        "id": "314839d0"
      },
      "source": [
        "### 2.3. User Input for Making Recommendations"
      ]
    },
    {
      "cell_type": "markdown",
      "source": [
        "Now, we need to define our books for making recommendations. Otherwise, we can't clearly make recommandations without user input."
      ],
      "metadata": {
        "id": "7q5tdrq-uMGu"
      },
      "id": "7q5tdrq-uMGu"
    },
    {
      "cell_type": "code",
      "execution_count": null,
      "id": "2d43d842",
      "metadata": {
        "id": "2d43d842",
        "outputId": "7dfbc193-0a8f-4099-eb65-2ad13ba5118d"
      },
      "outputs": [
        {
          "data": {
            "text/html": [
              "<div>\n",
              "<style scoped>\n",
              "    .dataframe tbody tr th:only-of-type {\n",
              "        vertical-align: middle;\n",
              "    }\n",
              "\n",
              "    .dataframe tbody tr th {\n",
              "        vertical-align: top;\n",
              "    }\n",
              "\n",
              "    .dataframe thead th {\n",
              "        text-align: right;\n",
              "    }\n",
              "</style>\n",
              "<table border=\"1\" class=\"dataframe\">\n",
              "  <thead>\n",
              "    <tr style=\"text-align: right;\">\n",
              "      <th></th>\n",
              "      <th>Book-Title</th>\n",
              "      <th>Book-Rating</th>\n",
              "    </tr>\n",
              "  </thead>\n",
              "  <tbody>\n",
              "    <tr>\n",
              "      <th>0</th>\n",
              "      <td>Lightning</td>\n",
              "      <td>9</td>\n",
              "    </tr>\n",
              "    <tr>\n",
              "      <th>1</th>\n",
              "      <td>Manhattan Hunt Club</td>\n",
              "      <td>9</td>\n",
              "    </tr>\n",
              "    <tr>\n",
              "      <th>2</th>\n",
              "      <td>Clara Callan</td>\n",
              "      <td>7</td>\n",
              "    </tr>\n",
              "    <tr>\n",
              "      <th>3</th>\n",
              "      <td>Jane Doe</td>\n",
              "      <td>2</td>\n",
              "    </tr>\n",
              "    <tr>\n",
              "      <th>4</th>\n",
              "      <td>Wild Animus</td>\n",
              "      <td>5</td>\n",
              "    </tr>\n",
              "  </tbody>\n",
              "</table>\n",
              "</div>"
            ],
            "text/plain": [
              "            Book-Title  Book-Rating\n",
              "0            Lightning            9\n",
              "1  Manhattan Hunt Club            9\n",
              "2         Clara Callan            7\n",
              "3             Jane Doe            2\n",
              "4          Wild Animus            5"
            ]
          },
          "execution_count": 15,
          "metadata": {},
          "output_type": "execute_result"
        }
      ],
      "source": [
        "userInput = [\n",
        "            {'Book-Title': 'Lightning', 'Book-Rating': 9},\n",
        "            {'Book-Title': 'Manhattan Hunt Club', 'Book-Rating': 9},\n",
        "            {'Book-Title': 'Clara Callan', 'Book-Rating': 7},\n",
        "            {'Book-Title': \"Jane Doe\", 'Book-Rating': 2},\n",
        "            {'Book-Title': 'Wild Animus', 'Book-Rating': 5}\n",
        "         ]\n",
        "inputBooks= pd.DataFrame(userInput)\n",
        "inputBooks"
      ]
    },
    {
      "cell_type": "markdown",
      "id": "9279f238",
      "metadata": {
        "id": "9279f238"
      },
      "source": [
        "### 2.4. Creating User Subset for Collaborative Filtering"
      ]
    },
    {
      "cell_type": "markdown",
      "source": [
        "The focus is on preparing the input data for the collaborative filtering analysis. The process begins by identifying the subset of the '**books_df**' dataset that corresponds to the book titles specified in the user's input. This is achieved through the use of the `.isin()` method, allowing the extraction of relevant rows based on the 'Book-Title' column from the user's input. Subsequently, a merging operation takes place to obtain the necessary details, including '**ISBN**', for the identified books. This merging step is crucial for aligning the user's input with the broader dataset.\n",
        "\n",
        "Following the merge, unnecessary information is trimmed down by dropping the '**Year-Of-Publication**' column from the '**inputBooks**' dataframe. The final result is a refined input dataframe that encapsulates the essential details of the user-specified books. It's worth noting that if a book specified by the user is not present in this final input dataframe, it may be due to variations in spelling or capitalization, warranting a careful check for data consistency. This meticulous preparation ensures that the input data is well-structured and ready for integration into the collaborative filtering model, laying the foundation for generating personalized book recommendations based on user preferences."
      ],
      "metadata": {
        "id": "Ad4zg-KutzFZ"
      },
      "id": "Ad4zg-KutzFZ"
    },
    {
      "cell_type": "code",
      "execution_count": null,
      "id": "728d417f",
      "metadata": {
        "id": "728d417f",
        "outputId": "3578cff0-7069-4626-c1e7-42de0ce4ad6c"
      },
      "outputs": [
        {
          "data": {
            "text/html": [
              "<div>\n",
              "<style scoped>\n",
              "    .dataframe tbody tr th:only-of-type {\n",
              "        vertical-align: middle;\n",
              "    }\n",
              "\n",
              "    .dataframe tbody tr th {\n",
              "        vertical-align: top;\n",
              "    }\n",
              "\n",
              "    .dataframe thead th {\n",
              "        text-align: right;\n",
              "    }\n",
              "</style>\n",
              "<table border=\"1\" class=\"dataframe\">\n",
              "  <thead>\n",
              "    <tr style=\"text-align: right;\">\n",
              "      <th></th>\n",
              "      <th>ISBN</th>\n",
              "      <th>Book-Title</th>\n",
              "      <th>Book-Author</th>\n",
              "      <th>Book-Rating</th>\n",
              "    </tr>\n",
              "  </thead>\n",
              "  <tbody>\n",
              "    <tr>\n",
              "      <th>0</th>\n",
              "      <td>0002005018</td>\n",
              "      <td>Clara Callan</td>\n",
              "      <td>Richard Bruce Wright</td>\n",
              "      <td>7</td>\n",
              "    </tr>\n",
              "    <tr>\n",
              "      <th>1</th>\n",
              "      <td>0971880107</td>\n",
              "      <td>Wild Animus</td>\n",
              "      <td>Rich Shapero</td>\n",
              "      <td>5</td>\n",
              "    </tr>\n",
              "    <tr>\n",
              "      <th>2</th>\n",
              "      <td>0449006522</td>\n",
              "      <td>Manhattan Hunt Club</td>\n",
              "      <td>JOHN SAUL</td>\n",
              "      <td>9</td>\n",
              "    </tr>\n",
              "    <tr>\n",
              "      <th>3</th>\n",
              "      <td>1551665107</td>\n",
              "      <td>Jane Doe</td>\n",
              "      <td>R.J. Kaiser</td>\n",
              "      <td>2</td>\n",
              "    </tr>\n",
              "    <tr>\n",
              "      <th>4</th>\n",
              "      <td>0553290703</td>\n",
              "      <td>Lightning</td>\n",
              "      <td>Patricia Potter</td>\n",
              "      <td>9</td>\n",
              "    </tr>\n",
              "  </tbody>\n",
              "</table>\n",
              "</div>"
            ],
            "text/plain": [
              "         ISBN           Book-Title           Book-Author  Book-Rating\n",
              "0  0002005018         Clara Callan  Richard Bruce Wright            7\n",
              "1  0971880107          Wild Animus          Rich Shapero            5\n",
              "2  0449006522  Manhattan Hunt Club             JOHN SAUL            9\n",
              "3  1551665107             Jane Doe           R.J. Kaiser            2\n",
              "4  0553290703            Lightning       Patricia Potter            9"
            ]
          },
          "execution_count": 16,
          "metadata": {},
          "output_type": "execute_result"
        }
      ],
      "source": [
        "inputId = books_df[books_df['Book-Title'].isin(inputBooks['Book-Title'].tolist())]\n",
        "inputBooks = pd.merge(inputId, inputBooks)\n",
        "inputBooks = inputBooks.drop('Year-Of-Publication', 1)\n",
        "inputBooks"
      ]
    },
    {
      "cell_type": "markdown",
      "id": "a454ad93",
      "metadata": {
        "id": "a454ad93"
      },
      "source": [
        "We had merged our recommendation dataframe and the ISBN number of the books with book's author."
      ]
    },
    {
      "cell_type": "code",
      "execution_count": null,
      "id": "8ffc83df",
      "metadata": {
        "id": "8ffc83df",
        "outputId": "e83be41e-351d-4808-d9c1-2063c55e6f38"
      },
      "outputs": [
        {
          "data": {
            "text/html": [
              "<div>\n",
              "<style scoped>\n",
              "    .dataframe tbody tr th:only-of-type {\n",
              "        vertical-align: middle;\n",
              "    }\n",
              "\n",
              "    .dataframe tbody tr th {\n",
              "        vertical-align: top;\n",
              "    }\n",
              "\n",
              "    .dataframe thead th {\n",
              "        text-align: right;\n",
              "    }\n",
              "</style>\n",
              "<table border=\"1\" class=\"dataframe\">\n",
              "  <thead>\n",
              "    <tr style=\"text-align: right;\">\n",
              "      <th></th>\n",
              "      <th>User-ID</th>\n",
              "      <th>ISBN</th>\n",
              "      <th>Book-Rating</th>\n",
              "    </tr>\n",
              "  </thead>\n",
              "  <tbody>\n",
              "    <tr>\n",
              "      <th>86676</th>\n",
              "      <td>18401</td>\n",
              "      <td>1551665107</td>\n",
              "      <td>3</td>\n",
              "    </tr>\n",
              "    <tr>\n",
              "      <th>128287</th>\n",
              "      <td>29806</td>\n",
              "      <td>1551665107</td>\n",
              "      <td>5</td>\n",
              "    </tr>\n",
              "    <tr>\n",
              "      <th>162695</th>\n",
              "      <td>35859</td>\n",
              "      <td>1551665107</td>\n",
              "      <td>1</td>\n",
              "    </tr>\n",
              "    <tr>\n",
              "      <th>166997</th>\n",
              "      <td>36609</td>\n",
              "      <td>1551665107</td>\n",
              "      <td>5</td>\n",
              "    </tr>\n",
              "    <tr>\n",
              "      <th>201177</th>\n",
              "      <td>45114</td>\n",
              "      <td>1551665107</td>\n",
              "      <td>5</td>\n",
              "    </tr>\n",
              "  </tbody>\n",
              "</table>\n",
              "</div>"
            ],
            "text/plain": [
              "        User-ID        ISBN  Book-Rating\n",
              "86676     18401  1551665107            3\n",
              "128287    29806  1551665107            5\n",
              "162695    35859  1551665107            1\n",
              "166997    36609  1551665107            5\n",
              "201177    45114  1551665107            5"
            ]
          },
          "execution_count": 17,
          "metadata": {},
          "output_type": "execute_result"
        }
      ],
      "source": [
        "# Filtering out users that have watched movies that the input has watched and storing it\n",
        "userSubset = ratings_df[ratings_df['ISBN'].isin(inputBooks['ISBN'].tolist())]\n",
        "userSubset.head()"
      ]
    },
    {
      "cell_type": "markdown",
      "source": [
        "The focus shifts to creating a user subset for collaborative filtering analysis. The user subset is generated by grouping the '**userSubset**' dataframe based on the '**User-ID**' column. A specific user, in this case, '**User-ID**' 18401, is isolated for closer inspection using the `get_group()` method."
      ],
      "metadata": {
        "id": "t4Lgv-0Wu3JP"
      },
      "id": "t4Lgv-0Wu3JP"
    },
    {
      "cell_type": "code",
      "execution_count": null,
      "id": "be6165ec",
      "metadata": {
        "id": "be6165ec"
      },
      "outputs": [],
      "source": [
        "userSubsetGroup = userSubset.groupby(['User-ID'])"
      ]
    },
    {
      "cell_type": "code",
      "execution_count": null,
      "id": "193b546b",
      "metadata": {
        "id": "193b546b",
        "outputId": "303f4301-9ac8-4b0d-d41d-6928ca821b6a"
      },
      "outputs": [
        {
          "data": {
            "text/html": [
              "<div>\n",
              "<style scoped>\n",
              "    .dataframe tbody tr th:only-of-type {\n",
              "        vertical-align: middle;\n",
              "    }\n",
              "\n",
              "    .dataframe tbody tr th {\n",
              "        vertical-align: top;\n",
              "    }\n",
              "\n",
              "    .dataframe thead th {\n",
              "        text-align: right;\n",
              "    }\n",
              "</style>\n",
              "<table border=\"1\" class=\"dataframe\">\n",
              "  <thead>\n",
              "    <tr style=\"text-align: right;\">\n",
              "      <th></th>\n",
              "      <th>User-ID</th>\n",
              "      <th>ISBN</th>\n",
              "      <th>Book-Rating</th>\n",
              "    </tr>\n",
              "  </thead>\n",
              "  <tbody>\n",
              "    <tr>\n",
              "      <th>86676</th>\n",
              "      <td>18401</td>\n",
              "      <td>1551665107</td>\n",
              "      <td>3</td>\n",
              "    </tr>\n",
              "  </tbody>\n",
              "</table>\n",
              "</div>"
            ],
            "text/plain": [
              "       User-ID        ISBN  Book-Rating\n",
              "86676    18401  1551665107            3"
            ]
          },
          "execution_count": 19,
          "metadata": {},
          "output_type": "execute_result"
        }
      ],
      "source": [
        "userSubsetGroup.get_group(18401)"
      ]
    },
    {
      "cell_type": "markdown",
      "source": [
        "The user subset is then organized by the number of entries per user in descending order, achieved through sorting the '**userSubsetGroup**' using a lambda function. This arrangement allows prioritizing users with a higher number of interactions, contributing to a more robust collaborative filtering model."
      ],
      "metadata": {
        "id": "fuqrYqfxvADq"
      },
      "id": "fuqrYqfxvADq"
    },
    {
      "cell_type": "code",
      "execution_count": null,
      "id": "90e8380e",
      "metadata": {
        "id": "90e8380e"
      },
      "outputs": [],
      "source": [
        "userSubsetGroup = sorted(userSubsetGroup,  key=lambda x: len(x[1]), reverse=True)"
      ]
    },
    {
      "cell_type": "code",
      "execution_count": null,
      "id": "5bb60e22",
      "metadata": {
        "id": "5bb60e22",
        "outputId": "0ce81c19-2745-422a-f2ce-56cbb706a0e1"
      },
      "outputs": [
        {
          "data": {
            "text/plain": [
              "[(18401,\n",
              "         User-ID        ISBN  Book-Rating\n",
              "  86676    18401  1551665107            3),\n",
              " (29806,\n",
              "          User-ID        ISBN  Book-Rating\n",
              "  128287    29806  1551665107            5),\n",
              " (35859,\n",
              "          User-ID        ISBN  Book-Rating\n",
              "  162695    35859  1551665107            1)]"
            ]
          },
          "execution_count": 21,
          "metadata": {},
          "output_type": "execute_result"
        }
      ],
      "source": [
        "userSubsetGroup[0:3]"
      ]
    },
    {
      "cell_type": "markdown",
      "source": [
        "To manage computational resources effectively, the user subset is further narrowed down to the top 100 users. This selection, stored in 'userSubsetGroup,' represents a subset of users with substantial engagement, forming the basis for collaborative filtering analysis. This strategic curation of the user subset ensures that the collaborative filtering model is not only computationally efficient but also prioritizes users with a significant impact on recommendations."
      ],
      "metadata": {
        "id": "YH-mIffhvFLY"
      },
      "id": "YH-mIffhvFLY"
    },
    {
      "cell_type": "code",
      "execution_count": null,
      "id": "608acf6c",
      "metadata": {
        "id": "608acf6c"
      },
      "outputs": [],
      "source": [
        "userSubsetGroup = userSubsetGroup[0:100]"
      ]
    },
    {
      "cell_type": "markdown",
      "source": [
        "## 3. Pearson Correlation for the Recommendation"
      ],
      "metadata": {
        "id": "n94yWQ15v8iV"
      },
      "id": "n94yWQ15v8iV"
    },
    {
      "cell_type": "markdown",
      "id": "696b8391",
      "metadata": {
        "id": "696b8391"
      },
      "source": [
        "The Pearson correlation coefficient (ρ) is a statistical measure that quantifies the linear relationship between two variables, X and Y. The formula for calculating Pearson correlation is as follows:\n",
        "\n",
        "<br>\n",
        "\n",
        "$$ \\rho = \\frac{\\sum{(X_i - \\bar{X})(Y_i - \\bar{Y})}}{\\sqrt{\\sum{(X_i - \\bar{X})^2} \\sum{(Y_i - \\bar{Y})^2}}} $$\n",
        "\n",
        "<br>\n",
        "\n",
        "Here's a breakdown of the terms in the formula:\n",
        "\n",
        "- $ \\rho $: Pearson correlation coefficient.\n",
        "- $ X_i $ and $ Y_i $: Individual data points in the datasets X and Y.\n",
        "- $ \\bar{X} $ and $ \\bar{Y} $: Mean (average) of the respective datasets X and Y.\n",
        "\n",
        "The numerator represents the sum of the product of the differences between each data point and the mean of its respective dataset. The denominator involves the square root of the product of the sums of squared differences from the mean for both datasets.\n",
        "\n",
        "<br>\n",
        "\n",
        "The resulting Pearson correlation coefficient ranges from -1 to 1:\n",
        "\n",
        "- $ \\rho = 1 $: Perfect positive correlation.\n",
        "- $ \\rho = -1 $: Perfect negative correlation.\n",
        "- $ \\rho = 0 $: No linear correlation.\n",
        "\n",
        "<br>\n",
        "\n",
        "In collaborative filtering for book recommendations, Pearson correlation is commonly used to measure the similarity between user preferences based on their ratings. A positive correlation suggests similar tastes, while a negative correlation implies dissimilar preferences.\n"
      ]
    },
    {
      "cell_type": "code",
      "source": [
        "# Initialize an empty dictionary to store Pearson correlation coefficients\n",
        "pearsonCorrelationDict = {}\n",
        "\n",
        "# For every user group in our subset\n",
        "for name, group in userSubsetGroup:\n",
        "    # Sort the input and current user group by ISBN for consistency\n",
        "    group = group.sort_values(by='ISBN')\n",
        "    inputBooks = inputBooks.sort_values(by='ISBN')\n",
        "\n",
        "    # Get the number of ratings (N) for the formula\n",
        "    nRatings = len(group)\n",
        "\n",
        "    # Get the review scores for the books they both have in common\n",
        "    temp_df = inputBooks[inputBooks['ISBN'].isin(group['ISBN'].tolist())]\n",
        "\n",
        "    # Store review scores in temporary lists for future calculations\n",
        "    tempRatingList = temp_df['Book-Rating'].tolist()\n",
        "    tempGroupList = group['Book-Rating'].tolist()\n",
        "\n",
        "    # Calculate the components of the Pearson correlation formula\n",
        "    Sxx = sum([i**2 for i in tempRatingList]) - pow(sum(tempRatingList),2)/float(nRatings)\n",
        "    Syy = sum([i**2 for i in tempGroupList]) - pow(sum(tempGroupList),2)/float(nRatings)\n",
        "    Sxy = sum(i*j for i, j in zip(tempRatingList, tempGroupList)) - sum(tempRatingList)*sum(tempGroupList)/float(nRatings)\n",
        "\n",
        "    # If the denominator is different than zero, then calculate Pearson correlation, else, set correlation to 0\n",
        "    if Sxx != 0 and Syy != 0:\n",
        "        pearsonCorrelationDict[name] = Sxy/sqrt(Sxx*Syy)\n",
        "    else:\n",
        "        pearsonCorrelationDict[name] = 0"
      ],
      "metadata": {
        "id": "qPZcrO4PwH92"
      },
      "id": "qPZcrO4PwH92",
      "execution_count": null,
      "outputs": []
    },
    {
      "cell_type": "markdown",
      "source": [
        "The resulting dictionary '**pearsonCorrelationDict**' contains Pearson correlation coefficients between the input user and other users in the subset. This code calculates how similar the preferences of the input user are to each user in the subset."
      ],
      "metadata": {
        "id": "vtXLeWh9wPf7"
      },
      "id": "vtXLeWh9wPf7"
    },
    {
      "cell_type": "code",
      "execution_count": null,
      "id": "dd0f18a0",
      "metadata": {
        "id": "dd0f18a0",
        "outputId": "98b70807-7574-4078-d9d2-f8381ed52463"
      },
      "outputs": [
        {
          "data": {
            "text/plain": [
              "dict_items([(18401, 0), (29806, 0), (35859, 0), (36609, 0), (45114, 0), (72238, 0), (73394, 0), (78553, 0), (79903, 0), (93518, 0), (135265, 0), (135321, 0), (143411, 0), (158295, 0), (166596, 0), (167349, 0), (175003, 0), (201451, 0), (221908, 0), (230522, 0), (242824, 0)])"
            ]
          },
          "execution_count": 24,
          "metadata": {},
          "output_type": "execute_result"
        }
      ],
      "source": [
        "pearsonCorrelationDict.items()"
      ]
    },
    {
      "cell_type": "markdown",
      "id": "9ecceef8",
      "metadata": {
        "id": "9ecceef8"
      },
      "source": [
        "### 3.1. Pearson Correlation Dictonary on DataFrame"
      ]
    },
    {
      "cell_type": "markdown",
      "source": [
        " We codded transforms the calculated Pearson correlation coefficients into a structured DataFrame ('**pearsonDF**'), where each row corresponds to a user in the subset, and columns include the similarity index and user ID. This DataFrame is a valuable resource for further analysis and recommendation generation in collaborative filtering."
      ],
      "metadata": {
        "id": "orom9vH-wlOu"
      },
      "id": "orom9vH-wlOu"
    },
    {
      "cell_type": "code",
      "execution_count": null,
      "id": "144a2299",
      "metadata": {
        "id": "144a2299",
        "outputId": "ee74e4c5-683b-44e9-dd84-ce2fdc2ee968"
      },
      "outputs": [
        {
          "data": {
            "text/html": [
              "<div>\n",
              "<style scoped>\n",
              "    .dataframe tbody tr th:only-of-type {\n",
              "        vertical-align: middle;\n",
              "    }\n",
              "\n",
              "    .dataframe tbody tr th {\n",
              "        vertical-align: top;\n",
              "    }\n",
              "\n",
              "    .dataframe thead th {\n",
              "        text-align: right;\n",
              "    }\n",
              "</style>\n",
              "<table border=\"1\" class=\"dataframe\">\n",
              "  <thead>\n",
              "    <tr style=\"text-align: right;\">\n",
              "      <th></th>\n",
              "      <th>similarityIndex</th>\n",
              "      <th>userId</th>\n",
              "    </tr>\n",
              "  </thead>\n",
              "  <tbody>\n",
              "    <tr>\n",
              "      <th>0</th>\n",
              "      <td>0</td>\n",
              "      <td>18401</td>\n",
              "    </tr>\n",
              "    <tr>\n",
              "      <th>1</th>\n",
              "      <td>0</td>\n",
              "      <td>29806</td>\n",
              "    </tr>\n",
              "    <tr>\n",
              "      <th>2</th>\n",
              "      <td>0</td>\n",
              "      <td>35859</td>\n",
              "    </tr>\n",
              "    <tr>\n",
              "      <th>3</th>\n",
              "      <td>0</td>\n",
              "      <td>36609</td>\n",
              "    </tr>\n",
              "    <tr>\n",
              "      <th>4</th>\n",
              "      <td>0</td>\n",
              "      <td>45114</td>\n",
              "    </tr>\n",
              "  </tbody>\n",
              "</table>\n",
              "</div>"
            ],
            "text/plain": [
              "   similarityIndex  userId\n",
              "0                0   18401\n",
              "1                0   29806\n",
              "2                0   35859\n",
              "3                0   36609\n",
              "4                0   45114"
            ]
          },
          "execution_count": 25,
          "metadata": {},
          "output_type": "execute_result"
        }
      ],
      "source": [
        "pearsonDF = pd.DataFrame.from_dict(pearsonCorrelationDict, orient='index')\n",
        "pearsonDF.columns = ['similarityIndex']\n",
        "pearsonDF['userId'] = pearsonDF.index\n",
        "pearsonDF.index = range(len(pearsonDF))\n",
        "pearsonDF.head()"
      ]
    },
    {
      "cell_type": "markdown",
      "id": "4d3b9a12",
      "metadata": {
        "id": "4d3b9a12"
      },
      "source": [
        "### 3.2. Extracting Top Similar Users"
      ]
    },
    {
      "cell_type": "markdown",
      "source": [
        "The provided code segment involves extracting the top users from the '**pearsonDF**' DataFrame, sorting them based on their similarity indices in descending order, and displaying the first few rows."
      ],
      "metadata": {
        "id": "6ziZSWdRw7Dq"
      },
      "id": "6ziZSWdRw7Dq"
    },
    {
      "cell_type": "code",
      "execution_count": null,
      "id": "73e8a4b0",
      "metadata": {
        "id": "73e8a4b0",
        "outputId": "5dfe5d3d-dcf7-497a-83c0-6ff5443c455c"
      },
      "outputs": [
        {
          "data": {
            "text/html": [
              "<div>\n",
              "<style scoped>\n",
              "    .dataframe tbody tr th:only-of-type {\n",
              "        vertical-align: middle;\n",
              "    }\n",
              "\n",
              "    .dataframe tbody tr th {\n",
              "        vertical-align: top;\n",
              "    }\n",
              "\n",
              "    .dataframe thead th {\n",
              "        text-align: right;\n",
              "    }\n",
              "</style>\n",
              "<table border=\"1\" class=\"dataframe\">\n",
              "  <thead>\n",
              "    <tr style=\"text-align: right;\">\n",
              "      <th></th>\n",
              "      <th>similarityIndex</th>\n",
              "      <th>userId</th>\n",
              "    </tr>\n",
              "  </thead>\n",
              "  <tbody>\n",
              "    <tr>\n",
              "      <th>0</th>\n",
              "      <td>0</td>\n",
              "      <td>18401</td>\n",
              "    </tr>\n",
              "    <tr>\n",
              "      <th>11</th>\n",
              "      <td>0</td>\n",
              "      <td>135321</td>\n",
              "    </tr>\n",
              "    <tr>\n",
              "      <th>19</th>\n",
              "      <td>0</td>\n",
              "      <td>230522</td>\n",
              "    </tr>\n",
              "    <tr>\n",
              "      <th>18</th>\n",
              "      <td>0</td>\n",
              "      <td>221908</td>\n",
              "    </tr>\n",
              "    <tr>\n",
              "      <th>17</th>\n",
              "      <td>0</td>\n",
              "      <td>201451</td>\n",
              "    </tr>\n",
              "  </tbody>\n",
              "</table>\n",
              "</div>"
            ],
            "text/plain": [
              "    similarityIndex  userId\n",
              "0                 0   18401\n",
              "11                0  135321\n",
              "19                0  230522\n",
              "18                0  221908\n",
              "17                0  201451"
            ]
          },
          "execution_count": 26,
          "metadata": {},
          "output_type": "execute_result"
        }
      ],
      "source": [
        "topUsers=pearsonDF.sort_values(by='similarityIndex', ascending=False)[0:50]\n",
        "topUsers.head()"
      ]
    },
    {
      "cell_type": "markdown",
      "id": "7dc77dfe",
      "metadata": {
        "id": "7dc77dfe"
      },
      "source": [
        "### 3.3. Merging Top Similar Users with Ratings Data"
      ]
    },
    {
      "cell_type": "markdown",
      "source": [
        "The code segment involves merging the '**topUsers**' DataFrame with the '**ratings_df**' DataFrame based on user IDs and displaying the first few rows of the resulting DataFrame."
      ],
      "metadata": {
        "id": "Tkgqp-2ZxMYJ"
      },
      "id": "Tkgqp-2ZxMYJ"
    },
    {
      "cell_type": "code",
      "execution_count": null,
      "id": "f86c2a22",
      "metadata": {
        "id": "f86c2a22",
        "outputId": "e7ae1bab-926f-4339-9fe3-ea32ac0578c5"
      },
      "outputs": [
        {
          "data": {
            "text/html": [
              "<div>\n",
              "<style scoped>\n",
              "    .dataframe tbody tr th:only-of-type {\n",
              "        vertical-align: middle;\n",
              "    }\n",
              "\n",
              "    .dataframe tbody tr th {\n",
              "        vertical-align: top;\n",
              "    }\n",
              "\n",
              "    .dataframe thead th {\n",
              "        text-align: right;\n",
              "    }\n",
              "</style>\n",
              "<table border=\"1\" class=\"dataframe\">\n",
              "  <thead>\n",
              "    <tr style=\"text-align: right;\">\n",
              "      <th></th>\n",
              "      <th>similarityIndex</th>\n",
              "      <th>userId</th>\n",
              "      <th>User-ID</th>\n",
              "      <th>ISBN</th>\n",
              "      <th>Book-Rating</th>\n",
              "    </tr>\n",
              "  </thead>\n",
              "  <tbody>\n",
              "    <tr>\n",
              "      <th>0</th>\n",
              "      <td>0</td>\n",
              "      <td>18401</td>\n",
              "      <td>18401</td>\n",
              "      <td>60009241</td>\n",
              "      <td>8</td>\n",
              "    </tr>\n",
              "    <tr>\n",
              "      <th>1</th>\n",
              "      <td>0</td>\n",
              "      <td>18401</td>\n",
              "      <td>18401</td>\n",
              "      <td>60085444</td>\n",
              "      <td>9</td>\n",
              "    </tr>\n",
              "    <tr>\n",
              "      <th>2</th>\n",
              "      <td>0</td>\n",
              "      <td>18401</td>\n",
              "      <td>18401</td>\n",
              "      <td>60092149</td>\n",
              "      <td>5</td>\n",
              "    </tr>\n",
              "    <tr>\n",
              "      <th>3</th>\n",
              "      <td>0</td>\n",
              "      <td>18401</td>\n",
              "      <td>18401</td>\n",
              "      <td>60502177</td>\n",
              "      <td>6</td>\n",
              "    </tr>\n",
              "    <tr>\n",
              "      <th>4</th>\n",
              "      <td>0</td>\n",
              "      <td>18401</td>\n",
              "      <td>18401</td>\n",
              "      <td>61012513</td>\n",
              "      <td>7</td>\n",
              "    </tr>\n",
              "  </tbody>\n",
              "</table>\n",
              "</div>"
            ],
            "text/plain": [
              "   similarityIndex  userId  User-ID      ISBN  Book-Rating\n",
              "0                0   18401    18401  60009241            8\n",
              "1                0   18401    18401  60085444            9\n",
              "2                0   18401    18401  60092149            5\n",
              "3                0   18401    18401  60502177            6\n",
              "4                0   18401    18401  61012513            7"
            ]
          },
          "execution_count": 27,
          "metadata": {},
          "output_type": "execute_result"
        }
      ],
      "source": [
        "topUsersRating=topUsers.merge(ratings_df, left_on='userId', right_on='User-ID', how='inner')\n",
        "topUsersRating.head()"
      ]
    },
    {
      "cell_type": "markdown",
      "id": "42f58e45",
      "metadata": {
        "id": "42f58e45"
      },
      "source": [
        "### 3.4. Calculating Weighted Ratings for Top Similar Users"
      ]
    },
    {
      "cell_type": "markdown",
      "source": [
        "It involves calculating weighted ratings for the top similar users by multiplying their similarity indices with their respective book ratings."
      ],
      "metadata": {
        "id": "xjv9OyHyxcuk"
      },
      "id": "xjv9OyHyxcuk"
    },
    {
      "cell_type": "code",
      "execution_count": null,
      "id": "47aad161",
      "metadata": {
        "id": "47aad161",
        "outputId": "f3a6815c-77c9-4f14-84f7-3a506c636759"
      },
      "outputs": [
        {
          "data": {
            "text/html": [
              "<div>\n",
              "<style scoped>\n",
              "    .dataframe tbody tr th:only-of-type {\n",
              "        vertical-align: middle;\n",
              "    }\n",
              "\n",
              "    .dataframe tbody tr th {\n",
              "        vertical-align: top;\n",
              "    }\n",
              "\n",
              "    .dataframe thead th {\n",
              "        text-align: right;\n",
              "    }\n",
              "</style>\n",
              "<table border=\"1\" class=\"dataframe\">\n",
              "  <thead>\n",
              "    <tr style=\"text-align: right;\">\n",
              "      <th></th>\n",
              "      <th>similarityIndex</th>\n",
              "      <th>userId</th>\n",
              "      <th>User-ID</th>\n",
              "      <th>ISBN</th>\n",
              "      <th>Book-Rating</th>\n",
              "      <th>weightedRating</th>\n",
              "    </tr>\n",
              "  </thead>\n",
              "  <tbody>\n",
              "    <tr>\n",
              "      <th>0</th>\n",
              "      <td>0</td>\n",
              "      <td>18401</td>\n",
              "      <td>18401</td>\n",
              "      <td>60009241</td>\n",
              "      <td>8</td>\n",
              "      <td>0</td>\n",
              "    </tr>\n",
              "    <tr>\n",
              "      <th>1</th>\n",
              "      <td>0</td>\n",
              "      <td>18401</td>\n",
              "      <td>18401</td>\n",
              "      <td>60085444</td>\n",
              "      <td>9</td>\n",
              "      <td>0</td>\n",
              "    </tr>\n",
              "    <tr>\n",
              "      <th>2</th>\n",
              "      <td>0</td>\n",
              "      <td>18401</td>\n",
              "      <td>18401</td>\n",
              "      <td>60092149</td>\n",
              "      <td>5</td>\n",
              "      <td>0</td>\n",
              "    </tr>\n",
              "    <tr>\n",
              "      <th>3</th>\n",
              "      <td>0</td>\n",
              "      <td>18401</td>\n",
              "      <td>18401</td>\n",
              "      <td>60502177</td>\n",
              "      <td>6</td>\n",
              "      <td>0</td>\n",
              "    </tr>\n",
              "    <tr>\n",
              "      <th>4</th>\n",
              "      <td>0</td>\n",
              "      <td>18401</td>\n",
              "      <td>18401</td>\n",
              "      <td>61012513</td>\n",
              "      <td>7</td>\n",
              "      <td>0</td>\n",
              "    </tr>\n",
              "  </tbody>\n",
              "</table>\n",
              "</div>"
            ],
            "text/plain": [
              "   similarityIndex  userId  User-ID      ISBN  Book-Rating  weightedRating\n",
              "0                0   18401    18401  60009241            8               0\n",
              "1                0   18401    18401  60085444            9               0\n",
              "2                0   18401    18401  60092149            5               0\n",
              "3                0   18401    18401  60502177            6               0\n",
              "4                0   18401    18401  61012513            7               0"
            ]
          },
          "execution_count": 28,
          "metadata": {},
          "output_type": "execute_result"
        }
      ],
      "source": [
        "topUsersRating['weightedRating'] = topUsersRating['similarityIndex']*topUsersRating['Book-Rating']\n",
        "topUsersRating.head()"
      ]
    },
    {
      "cell_type": "markdown",
      "id": "4b7fefe4",
      "metadata": {
        "id": "4b7fefe4"
      },
      "source": [
        "### 3.5. Aggregating Weighted Ratings for Books"
      ]
    },
    {
      "cell_type": "markdown",
      "source": [
        "Aggregating the weighted ratings and similarity indices for each book in the '**topUsersRating**' DataFrame."
      ],
      "metadata": {
        "id": "dyY1642ExwiR"
      },
      "id": "dyY1642ExwiR"
    },
    {
      "cell_type": "code",
      "execution_count": null,
      "id": "98267b99",
      "metadata": {
        "id": "98267b99",
        "outputId": "d70714b6-d7ee-4836-fd9c-76bf140f2b6b"
      },
      "outputs": [
        {
          "data": {
            "text/html": [
              "<div>\n",
              "<style scoped>\n",
              "    .dataframe tbody tr th:only-of-type {\n",
              "        vertical-align: middle;\n",
              "    }\n",
              "\n",
              "    .dataframe tbody tr th {\n",
              "        vertical-align: top;\n",
              "    }\n",
              "\n",
              "    .dataframe thead th {\n",
              "        text-align: right;\n",
              "    }\n",
              "</style>\n",
              "<table border=\"1\" class=\"dataframe\">\n",
              "  <thead>\n",
              "    <tr style=\"text-align: right;\">\n",
              "      <th></th>\n",
              "      <th>sum_similarityIndex</th>\n",
              "      <th>sum_weightedRating</th>\n",
              "    </tr>\n",
              "    <tr>\n",
              "      <th>ISBN</th>\n",
              "      <th></th>\n",
              "      <th></th>\n",
              "    </tr>\n",
              "  </thead>\n",
              "  <tbody>\n",
              "    <tr>\n",
              "      <th>000104799X</th>\n",
              "      <td>0</td>\n",
              "      <td>0</td>\n",
              "    </tr>\n",
              "    <tr>\n",
              "      <th>002026478X</th>\n",
              "      <td>0</td>\n",
              "      <td>0</td>\n",
              "    </tr>\n",
              "    <tr>\n",
              "      <th>002045211X</th>\n",
              "      <td>0</td>\n",
              "      <td>0</td>\n",
              "    </tr>\n",
              "    <tr>\n",
              "      <th>002089130X</th>\n",
              "      <td>0</td>\n",
              "      <td>0</td>\n",
              "    </tr>\n",
              "    <tr>\n",
              "      <th>006000147X</th>\n",
              "      <td>0</td>\n",
              "      <td>0</td>\n",
              "    </tr>\n",
              "  </tbody>\n",
              "</table>\n",
              "</div>"
            ],
            "text/plain": [
              "            sum_similarityIndex  sum_weightedRating\n",
              "ISBN                                               \n",
              "000104799X                    0                   0\n",
              "002026478X                    0                   0\n",
              "002045211X                    0                   0\n",
              "002089130X                    0                   0\n",
              "006000147X                    0                   0"
            ]
          },
          "execution_count": 29,
          "metadata": {},
          "output_type": "execute_result"
        }
      ],
      "source": [
        "tempTopUsersRating = topUsersRating.groupby('ISBN').sum()[['similarityIndex','weightedRating']]\n",
        "tempTopUsersRating.columns = ['sum_similarityIndex','sum_weightedRating']\n",
        "tempTopUsersRating.head()"
      ]
    },
    {
      "cell_type": "markdown",
      "source": [
        "### 3.6. Generating Weighted Average Recommendation Scores"
      ],
      "metadata": {
        "id": "uVUKrpyzx4no"
      },
      "id": "uVUKrpyzx4no"
    },
    {
      "cell_type": "markdown",
      "source": [
        "Calculating the weighted average recommendation scores for books based on the aggregated information from the collaborative filtering process."
      ],
      "metadata": {
        "id": "AedONp6-x8vk"
      },
      "id": "AedONp6-x8vk"
    },
    {
      "cell_type": "code",
      "execution_count": null,
      "id": "9134045d",
      "metadata": {
        "id": "9134045d",
        "outputId": "701ec6e5-5f61-4420-bfed-12f93bd03cb6"
      },
      "outputs": [
        {
          "data": {
            "text/html": [
              "<div>\n",
              "<style scoped>\n",
              "    .dataframe tbody tr th:only-of-type {\n",
              "        vertical-align: middle;\n",
              "    }\n",
              "\n",
              "    .dataframe tbody tr th {\n",
              "        vertical-align: top;\n",
              "    }\n",
              "\n",
              "    .dataframe thead th {\n",
              "        text-align: right;\n",
              "    }\n",
              "</style>\n",
              "<table border=\"1\" class=\"dataframe\">\n",
              "  <thead>\n",
              "    <tr style=\"text-align: right;\">\n",
              "      <th></th>\n",
              "      <th>weighted average recommendation score</th>\n",
              "      <th>ISBN</th>\n",
              "    </tr>\n",
              "    <tr>\n",
              "      <th>ISBN</th>\n",
              "      <th></th>\n",
              "      <th></th>\n",
              "    </tr>\n",
              "  </thead>\n",
              "  <tbody>\n",
              "    <tr>\n",
              "      <th>000104799X</th>\n",
              "      <td>NaN</td>\n",
              "      <td>000104799X</td>\n",
              "    </tr>\n",
              "    <tr>\n",
              "      <th>002026478X</th>\n",
              "      <td>NaN</td>\n",
              "      <td>002026478X</td>\n",
              "    </tr>\n",
              "    <tr>\n",
              "      <th>002045211X</th>\n",
              "      <td>NaN</td>\n",
              "      <td>002045211X</td>\n",
              "    </tr>\n",
              "    <tr>\n",
              "      <th>002089130X</th>\n",
              "      <td>NaN</td>\n",
              "      <td>002089130X</td>\n",
              "    </tr>\n",
              "    <tr>\n",
              "      <th>006000147X</th>\n",
              "      <td>NaN</td>\n",
              "      <td>006000147X</td>\n",
              "    </tr>\n",
              "  </tbody>\n",
              "</table>\n",
              "</div>"
            ],
            "text/plain": [
              "            weighted average recommendation score        ISBN\n",
              "ISBN                                                         \n",
              "000104799X                                    NaN  000104799X\n",
              "002026478X                                    NaN  002026478X\n",
              "002045211X                                    NaN  002045211X\n",
              "002089130X                                    NaN  002089130X\n",
              "006000147X                                    NaN  006000147X"
            ]
          },
          "execution_count": 35,
          "metadata": {},
          "output_type": "execute_result"
        }
      ],
      "source": [
        "recommendation_df = pd.DataFrame()\n",
        "# Now we take the weighted average\n",
        "recommendation_df['weighted average recommendation score'] = tempTopUsersRating['sum_weightedRating']/tempTopUsersRating['sum_similarityIndex']\n",
        "recommendation_df['ISBN'] = tempTopUsersRating.index\n",
        "recommendation_df.head()"
      ]
    },
    {
      "cell_type": "markdown",
      "id": "db855f7b",
      "metadata": {
        "id": "db855f7b"
      },
      "source": [
        "### 3.7. Sorting Books by Weighted Average Recommendation Scores"
      ]
    },
    {
      "cell_type": "markdown",
      "source": [
        "Sorting the '**recommendation_df**' DataFrame based on the calculated weighted average recommendation scores in descending order."
      ],
      "metadata": {
        "id": "UGPtDYrPyIDM"
      },
      "id": "UGPtDYrPyIDM"
    },
    {
      "cell_type": "code",
      "execution_count": null,
      "id": "000d70b7",
      "metadata": {
        "id": "000d70b7",
        "outputId": "6928b77f-4fd4-4c45-d25d-5e4bd3531201"
      },
      "outputs": [
        {
          "data": {
            "text/html": [
              "<div>\n",
              "<style scoped>\n",
              "    .dataframe tbody tr th:only-of-type {\n",
              "        vertical-align: middle;\n",
              "    }\n",
              "\n",
              "    .dataframe tbody tr th {\n",
              "        vertical-align: top;\n",
              "    }\n",
              "\n",
              "    .dataframe thead th {\n",
              "        text-align: right;\n",
              "    }\n",
              "</style>\n",
              "<table border=\"1\" class=\"dataframe\">\n",
              "  <thead>\n",
              "    <tr style=\"text-align: right;\">\n",
              "      <th></th>\n",
              "      <th>weighted average recommendation score</th>\n",
              "      <th>ISBN</th>\n",
              "    </tr>\n",
              "    <tr>\n",
              "      <th>ISBN</th>\n",
              "      <th></th>\n",
              "      <th></th>\n",
              "    </tr>\n",
              "  </thead>\n",
              "  <tbody>\n",
              "    <tr>\n",
              "      <th>000104799X</th>\n",
              "      <td>NaN</td>\n",
              "      <td>000104799X</td>\n",
              "    </tr>\n",
              "    <tr>\n",
              "      <th>002026478X</th>\n",
              "      <td>NaN</td>\n",
              "      <td>002026478X</td>\n",
              "    </tr>\n",
              "    <tr>\n",
              "      <th>002045211X</th>\n",
              "      <td>NaN</td>\n",
              "      <td>002045211X</td>\n",
              "    </tr>\n",
              "    <tr>\n",
              "      <th>002089130X</th>\n",
              "      <td>NaN</td>\n",
              "      <td>002089130X</td>\n",
              "    </tr>\n",
              "    <tr>\n",
              "      <th>006000147X</th>\n",
              "      <td>NaN</td>\n",
              "      <td>006000147X</td>\n",
              "    </tr>\n",
              "  </tbody>\n",
              "</table>\n",
              "</div>"
            ],
            "text/plain": [
              "            weighted average recommendation score        ISBN\n",
              "ISBN                                                         \n",
              "000104799X                                    NaN  000104799X\n",
              "002026478X                                    NaN  002026478X\n",
              "002045211X                                    NaN  002045211X\n",
              "002089130X                                    NaN  002089130X\n",
              "006000147X                                    NaN  006000147X"
            ]
          },
          "execution_count": 36,
          "metadata": {},
          "output_type": "execute_result"
        }
      ],
      "source": [
        "recommendation_df = recommendation_df.sort_values(by='weighted average recommendation score', ascending=False)\n",
        "recommendation_df.head()"
      ]
    },
    {
      "cell_type": "markdown",
      "id": "b8b9d2c7",
      "metadata": {
        "id": "b8b9d2c7"
      },
      "source": [
        "### 3.8. Retrieving Book Details for Top Recommendations"
      ]
    },
    {
      "cell_type": "markdown",
      "source": [
        "Retrieving detailed information about the top recommended books by matching their ISBN values with the '**books_df**' DataFrame."
      ],
      "metadata": {
        "id": "Y6C0lwcEyRAi"
      },
      "id": "Y6C0lwcEyRAi"
    },
    {
      "cell_type": "code",
      "execution_count": null,
      "id": "bfbc3bf4",
      "metadata": {
        "id": "bfbc3bf4",
        "outputId": "2d9bcfe0-cf1c-460e-f411-6980447943b3"
      },
      "outputs": [
        {
          "data": {
            "text/html": [
              "<div>\n",
              "<style scoped>\n",
              "    .dataframe tbody tr th:only-of-type {\n",
              "        vertical-align: middle;\n",
              "    }\n",
              "\n",
              "    .dataframe tbody tr th {\n",
              "        vertical-align: top;\n",
              "    }\n",
              "\n",
              "    .dataframe thead th {\n",
              "        text-align: right;\n",
              "    }\n",
              "</style>\n",
              "<table border=\"1\" class=\"dataframe\">\n",
              "  <thead>\n",
              "    <tr style=\"text-align: right;\">\n",
              "      <th></th>\n",
              "      <th>ISBN</th>\n",
              "      <th>Book-Title</th>\n",
              "      <th>Book-Author</th>\n",
              "      <th>Year-Of-Publication</th>\n",
              "    </tr>\n",
              "  </thead>\n",
              "  <tbody>\n",
              "    <tr>\n",
              "      <th>3701</th>\n",
              "      <td>002026478X</td>\n",
              "      <td>AGE OF INNOCENCE (MOVIE TIE-IN)</td>\n",
              "      <td>Edith Wharton</td>\n",
              "      <td>1993</td>\n",
              "    </tr>\n",
              "    <tr>\n",
              "      <th>47683</th>\n",
              "      <td>006000181X</td>\n",
              "      <td>With Her Last Breath</td>\n",
              "      <td>Cait London</td>\n",
              "      <td>2003</td>\n",
              "    </tr>\n",
              "    <tr>\n",
              "      <th>49133</th>\n",
              "      <td>006008460X</td>\n",
              "      <td>Cheaper by the Dozen (Perennial Classics)</td>\n",
              "      <td>Frank B. Gilbreth</td>\n",
              "      <td>2002</td>\n",
              "    </tr>\n",
              "    <tr>\n",
              "      <th>51433</th>\n",
              "      <td>000104799X</td>\n",
              "      <td>Monk's-hood</td>\n",
              "      <td>Ellis Peters</td>\n",
              "      <td>1994</td>\n",
              "    </tr>\n",
              "    <tr>\n",
              "      <th>81494</th>\n",
              "      <td>006000553X</td>\n",
              "      <td>Victoria and the Rogue (An Avon True Romance)</td>\n",
              "      <td>Meg Cabot</td>\n",
              "      <td>2003</td>\n",
              "    </tr>\n",
              "    <tr>\n",
              "      <th>127878</th>\n",
              "      <td>006000147X</td>\n",
              "      <td>Cherokee Warriors: The Loner</td>\n",
              "      <td>Genell Dellin</td>\n",
              "      <td>2003</td>\n",
              "    </tr>\n",
              "    <tr>\n",
              "      <th>225224</th>\n",
              "      <td>006008197X</td>\n",
              "      <td>Once Upon a Town : The Miracle of the North Pl...</td>\n",
              "      <td>Bob Greene</td>\n",
              "      <td>2003</td>\n",
              "    </tr>\n",
              "    <tr>\n",
              "      <th>245421</th>\n",
              "      <td>002045211X</td>\n",
              "      <td>Salazar Blinks (Collier Fiction)</td>\n",
              "      <td>David R. Slavitt</td>\n",
              "      <td>1990</td>\n",
              "    </tr>\n",
              "  </tbody>\n",
              "</table>\n",
              "</div>"
            ],
            "text/plain": [
              "              ISBN                                         Book-Title  \\\n",
              "3701    002026478X                    AGE OF INNOCENCE (MOVIE TIE-IN)   \n",
              "47683   006000181X                               With Her Last Breath   \n",
              "49133   006008460X          Cheaper by the Dozen (Perennial Classics)   \n",
              "51433   000104799X                                        Monk's-hood   \n",
              "81494   006000553X      Victoria and the Rogue (An Avon True Romance)   \n",
              "127878  006000147X                       Cherokee Warriors: The Loner   \n",
              "225224  006008197X  Once Upon a Town : The Miracle of the North Pl...   \n",
              "245421  002045211X                   Salazar Blinks (Collier Fiction)   \n",
              "\n",
              "              Book-Author Year-Of-Publication  \n",
              "3701        Edith Wharton                1993  \n",
              "47683         Cait London                2003  \n",
              "49133   Frank B. Gilbreth                2002  \n",
              "51433        Ellis Peters                1994  \n",
              "81494           Meg Cabot                2003  \n",
              "127878      Genell Dellin                2003  \n",
              "225224         Bob Greene                2003  \n",
              "245421   David R. Slavitt                1990  "
            ]
          },
          "execution_count": 37,
          "metadata": {},
          "output_type": "execute_result"
        }
      ],
      "source": [
        "books_df.loc[books_df['ISBN'].isin(recommendation_df.head(10)['ISBN'].tolist())]"
      ]
    },
    {
      "cell_type": "markdown",
      "source": [
        "The code efficiently identifies and displays detailed information about the top 10 recommended books by matching their ISBN values with the '**books_df**' DataFrame. This final output provides a comprehensive view of the recommended books, including their titles, authors, and other relevant details."
      ],
      "metadata": {
        "id": "DxAopSNmyff1"
      },
      "id": "DxAopSNmyff1"
    },
    {
      "cell_type": "markdown",
      "source": [
        "<h1>Contact Me</h1>\n",
        "<p>If you have something to say to me please contact me:</p>\n",
        "\n",
        "<ul>\n",
        "  <li>Twitter: <a href=\"https://twitter.com/Doguilmak\">Doguilmak</a></li>\n",
        "  <li>Mail address: doguilmak@gmail.com</li>\n",
        "</ul>"
      ],
      "metadata": {
        "id": "myRtrzwUykoj"
      },
      "id": "myRtrzwUykoj"
    },
    {
      "cell_type": "code",
      "execution_count": 1,
      "id": "ddce3bf6",
      "metadata": {
        "colab": {
          "base_uri": "https://localhost:8080/"
        },
        "id": "ddce3bf6",
        "outputId": "31f436fe-05ed-49db-a99f-f3e9799ac621"
      },
      "outputs": [
        {
          "output_type": "stream",
          "name": "stdout",
          "text": [
            "Changes have been made to the project on 2023-12-06 06:34:02\n"
          ]
        }
      ],
      "source": [
        "from datetime import datetime\n",
        "print(f\"Changes have been made to the project on {datetime.now().strftime('%Y-%m-%d %H:%M:%S')}\")"
      ]
    }
  ],
  "metadata": {
    "kernelspec": {
      "display_name": "Python 3 (ipykernel)",
      "language": "python",
      "name": "python3"
    },
    "language_info": {
      "codemirror_mode": {
        "name": "ipython",
        "version": 3
      },
      "file_extension": ".py",
      "mimetype": "text/x-python",
      "name": "python",
      "nbconvert_exporter": "python",
      "pygments_lexer": "ipython3",
      "version": "3.9.7"
    },
    "colab": {
      "provenance": [],
      "toc_visible": true
    }
  },
  "nbformat": 4,
  "nbformat_minor": 5
}